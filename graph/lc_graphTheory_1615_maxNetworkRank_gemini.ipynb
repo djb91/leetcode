{
  "cells": [
    {
      "cell_type": "markdown",
      "metadata": {
        "id": "iNEUZXMNqw-8"
      },
      "source": [
        "# LeetCode 1615. Maximal Network Rank\n",
        "\n",
        "## Background\n",
        "LeetCode has a [curated library of 45 graph problems](https://leetcode.com/studyplan/graph-theory/) that cover eight graph topics including `graph theory`, `Dijkstra's (pathfinding)`, and `traversals` among others.\n",
        "\n",
        "## Problem\n",
        "In this notebook we will analyze [1615. Maximal Network Rank](https://leetcode.com/problems/maximal-network-rank/description/?envType=study-plan-v2&envId=graph-theory).\n",
        "\n",
        " This problem is classified by LeetCode as:\n",
        "* Topic: Graph Theory\n",
        "* Difficulty: Medium\n",
        "* Tags: Graph (though it could include Node Degree, Directed Graphs, and DAGs)\n",
        "\n",
        "In addition to developing solution code, we will use Google Gemini to help us understand the problem and go beyond the code.\n",
        "\n"
      ]
    },
    {
      "cell_type": "markdown",
      "metadata": {
        "id": "ugOIAHUtqw-9"
      },
      "source": [
        "## Instantiate Gemini using the Gemini API"
      ]
    },
    {
      "cell_type": "code",
      "execution_count": 1,
      "metadata": {},
      "outputs": [],
      "source": [
        "import warnings\n",
        "warnings.filterwarnings(\"ignore\")"
      ]
    },
    {
      "cell_type": "code",
      "execution_count": 2,
      "metadata": {
        "id": "WcAIxQCfqw--"
      },
      "outputs": [],
      "source": [
        "# !pip install python-dotenv --upgrade --quiet\n",
        "from dotenv import load_dotenv\n",
        "import os\n",
        "\n",
        "# !pip install tqdm --upgrade --quiet\n",
        "import tqdm as notebook_tqdm\n",
        "\n",
        "# !pip install -U -q google.generativeai\n",
        "import google.generativeai as genai"
      ]
    },
    {
      "cell_type": "code",
      "execution_count": 3,
      "metadata": {
        "id": "asHGAucAqw-_"
      },
      "outputs": [],
      "source": [
        "# read API key from local .env \n",
        "load_dotenv()\n",
        "if \"GOOGLE_API_KEY\" not in os.environ:\n",
        "    os.environ[\"GOOGLE_API_KEY\"] = os.getenv('GOOGLE_API_KEY')"
      ]
    },
    {
      "cell_type": "code",
      "execution_count": 4,
      "metadata": {
        "id": "vP1CYDtbqw-_"
      },
      "outputs": [],
      "source": [
        "# # instantiate the LLM\n",
        "genai.configure(api_key=os.environ[\"GOOGLE_API_KEY\"])\n",
        "model = genai.GenerativeModel('gemini-1.5-pro-latest')\n"
      ]
    },
    {
      "cell_type": "code",
      "execution_count": 5,
      "metadata": {
        "id": "zGfelVYXqw-_"
      },
      "outputs": [],
      "source": [
        "# to print markdown code\n",
        "from IPython.display import display, Markdown\n",
        "\n",
        "def print_md(string):\n",
        "    display(Markdown(string))"
      ]
    },
    {
      "cell_type": "code",
      "execution_count": 12,
      "metadata": {},
      "outputs": [
        {
          "name": "stdout",
          "output_type": "stream",
          "text": [
            "Intel MKL WARNING: Support of Intel(R) Streaming SIMD Extensions 4.2 (Intel(R) SSE4.2) enabled only processors has been deprecated. Intel oneAPI Math Kernel Library 2025.0 will require Intel(R) Advanced Vector Extensions (Intel(R) AVX) instructions.\n",
            "Intel MKL WARNING: Support of Intel(R) Streaming SIMD Extensions 4.2 (Intel(R) SSE4.2) enabled only processors has been deprecated. Intel oneAPI Math Kernel Library 2025.0 will require Intel(R) Advanced Vector Extensions (Intel(R) AVX) instructions.\n"
          ]
        }
      ],
      "source": [
        "# !pip install networkx --upgrade --quiet\n",
        "# !pip install matplotlib --upgrade --quiet\n",
        "\n",
        "import networkx as nx\n",
        "import matplotlib.pyplot as plt"
      ]
    },
    {
      "cell_type": "markdown",
      "metadata": {},
      "source": [
        "## Test Model with Graph Theory Question"
      ]
    },
    {
      "cell_type": "code",
      "execution_count": 6,
      "metadata": {
        "colab": {
          "base_uri": "https://localhost:8080/",
          "height": 392
        },
        "id": "kEEMNm9yqw_A",
        "outputId": "d58d0c70-6a27-45cb-9f07-3caf206d001e"
      },
      "outputs": [
        {
          "data": {
            "text/markdown": [
              "## Graph Theory in a Nutshell:\n",
              "\n",
              "Graph theory studies **relationships** between objects. Think of it like a social network:\n",
              "\n",
              "* **Objects** are the \"nodes\" (people in a social network).\n",
              "* **Relationships** are the \"edges\" (connections between people).\n",
              "\n",
              "## Why Should a Data Scientist Care?\n",
              "\n",
              "Because data is all about relationships! Here's how graph theory helps:\n",
              "\n",
              "* **Understanding Networks:** Analyze social networks, identify influencers, predict information flow.\n",
              "* **Recommendation Engines:**  Build \"people who bought this also bought...\" systems based on product relationships.\n",
              "* **Fraud Detection:**  Spot suspicious connections in financial transactions or user behavior.\n",
              "* **Optimizing Processes:** Find the most efficient route in logistics, or the best way to allocate resources in a network.\n",
              "* **Knowledge Representation:**  Model complex systems like biological pathways or knowledge graphs for AI.\n",
              "\n",
              "**In essence, if your data involves connections and interactions, graph theory provides powerful tools for analysis and prediction.** \n"
            ],
            "text/plain": [
              "<IPython.core.display.Markdown object>"
            ]
          },
          "metadata": {},
          "output_type": "display_data"
        }
      ],
      "source": [
        "test_prompt = '''\n",
        "You are an expert in graph theory. I am a data scientist.\n",
        "Provide a simple, concise explanation of what graph theory is\n",
        "and why it is important to a data scientist. Focus on practical\n",
        "applications.\n",
        "'''\n",
        "\n",
        "test_response = model.generate_content(test_prompt)\n",
        "print_md(test_response.text)"
      ]
    },
    {
      "cell_type": "markdown",
      "metadata": {
        "id": "KemOBhMgqw_A"
      },
      "source": [
        "## LeetCode Problem Overview\n",
        "First we will ask Gemini to provide an overview of the problem with a focus on identifying and explaining the graph theory concepts involved."
      ]
    },
    {
      "cell_type": "code",
      "execution_count": 7,
      "metadata": {
        "id": "4lp0VubMqw_B"
      },
      "outputs": [],
      "source": [
        "# instantiate Gemini for multi-turn chat with an empty history\n",
        "chat = model.start_chat(history=[])"
      ]
    },
    {
      "cell_type": "code",
      "execution_count": 8,
      "metadata": {
        "id": "1L8JF1mpQfIk"
      },
      "outputs": [],
      "source": [
        "lc_problem = '1615. Maximal Network Rank'"
      ]
    },
    {
      "cell_type": "code",
      "execution_count": 9,
      "metadata": {
        "colab": {
          "base_uri": "https://localhost:8080/",
          "height": 815
        },
        "id": "3N8M3hPlqw_B",
        "outputId": "84371cf3-1bdc-429e-e67d-6f244164680e"
      },
      "outputs": [
        {
          "data": {
            "text/markdown": [
              "## LeetCode 1615. Maximal Network Rank: An Overview\n",
              "\n",
              "This problem presents a scenario where you have `n` cities connected by `roads`. The goal is to find the **maximal network rank** of any two cities. A city's network rank is defined as the number of roads connected to it. The network rank of two cities is the sum of their individual network ranks minus 1 if there's a road directly connecting them (to avoid double counting).\n",
              "\n",
              "**Example:**\n",
              "\n",
              "```\n",
              "Input: n = 4, roads = [[0,1],[0,3],[1,2],[1,3]]\n",
              "Output: 4\n",
              "Explanation: The network rank of cities 0 and 1 is 4.\n",
              "City 0 has 2 roads connected to it (roads 0-1 and 0-3).\n",
              "City 1 has 3 roads connected to it (roads 0-1, 1-2, and 1-3).\n",
              "Therefore, the maximal network rank is 2 + 3 = 5, minus 1 because cities 0 and 1 are directly connected, resulting in a maximal network rank of 4.\n",
              "```\n",
              "\n",
              "## Graph Domain: Infrastructure Networks\n",
              "\n",
              "This problem falls under the **infrastructure networks** domain.  Here's why:\n",
              "\n",
              "- **Cities as Nodes:**  Cities are represented as nodes in the graph, much like routers, servers, or power stations in a real-world infrastructure network.\n",
              "- **Roads as Edges:** Roads symbolize connections between cities, analogous to physical or communication links between infrastructure components.\n",
              "- **Network Rank as Connectivity:**  The problem emphasizes  analyzing the degree of connectivity within the network (how many connections each city/node has). This is crucial for understanding the robustness and capacity of infrastructure networks.\n",
              "\n",
              "## Graph Theory Concepts Involved\n",
              "\n",
              "1. **Undirected Graph:** The problem uses an undirected graph because roads allow bidirectional travel, meaning connections between cities are not one-way. In an undirected graph, edges have no directionality.\n",
              "\n",
              "   **Practical Application:** Undirected graphs are used in various scenarios, such as social networks where friendships are mutual, or road networks where roads are typically two-way.\n",
              "\n",
              "2. **Degree of a Node:**  The network rank of a city is essentially its degree in the graph.  The degree of a node represents the number of edges incident to it (connected to it).\n",
              "\n",
              "   **Practical Application:**  Degree centrality in social network analysis identifies influential individuals with many connections. In transportation networks, high-degree nodes are often hubs with many routes passing through them.\n",
              "\n",
              "3. **Adjacency Matrix:**  While not explicitly mentioned, the problem lends itself to using an adjacency matrix for representing the connections between cities. An adjacency matrix is a square matrix where the rows and columns represent nodes, and the entry at position (i, j) indicates whether there's an edge between node i and node j.\n",
              "\n",
              "   **Practical Application:** Adjacency matrices are commonly used for graph representation, particularly when checking for connections between specific nodes is frequent, as in this LeetCode problem. They are used in applications like route planning and social network analysis. \n"
            ],
            "text/plain": [
              "<IPython.core.display.Markdown object>"
            ]
          },
          "metadata": {},
          "output_type": "display_data"
        }
      ],
      "source": [
        "problem_prompt = f'''\n",
        "You are a helpful assistant who is an expert in graph theory, graph algorithms and\n",
        "LeetCode problems. I want you to help me understand a LeetCode graph problem from\n",
        "a graph theory perspective. Let's take this step-by-step.\n",
        "\n",
        "First, provide an overview of Leetcode {lc_problem}.\n",
        "\n",
        "Next, classify the graph domain of this problem (e.g., social network analysis,\n",
        "recommendation system, pathfinding, or others -- you are not limited to these\n",
        "choices) and provide an explanation of why it is categorized in this way.\n",
        "\n",
        "Finally, identify and describe each graph theory concept involved in the problem and solution.\n",
        "For each graph theory concept, give a detailed explanation of that concept and how\n",
        "it relates to this problem. Also describe the practical applications of these graph theory\n",
        "concepts.\n",
        "\n",
        "Do not provide a solution to the problem at this time. We will do that later.\n",
        "'''\n",
        "\n",
        "problem_response = chat.send_message(problem_prompt)\n",
        "\n",
        "print_md(problem_response.text)\n",
        "\n",
        "# print(problem_prompt)"
      ]
    },
    {
      "cell_type": "markdown",
      "metadata": {
        "id": "na7JxRoyqw_B"
      },
      "source": [
        "## Data Set"
      ]
    },
    {
      "cell_type": "code",
      "execution_count": 10,
      "metadata": {
        "colab": {
          "base_uri": "https://localhost:8080/",
          "height": 460
        },
        "id": "QpbOee9vqw_C",
        "outputId": "93d390bf-08e7-46e1-87cd-a10718795cb0"
      },
      "outputs": [
        {
          "data": {
            "text/markdown": [
              "## Generated Data Set for LeetCode 1615. Maximal Network Rank\n",
              "\n",
              "**Input:**\n",
              "\n",
              "- `n = 6` (Number of cities)\n",
              "- `roads = [[0,1],[1,2],[2,3],[3,4],[1,5]]`  (Roads connecting cities)\n",
              "\n",
              "**Output:**\n",
              "\n",
              "- `4` \n",
              "\n",
              "**Explanation:**\n",
              "\n",
              "The maximal network rank is achieved between cities 1 and 2:\n",
              "\n",
              "- City 1 has 3 connections (roads 0-1, 1-2, and 1-5).\n",
              "- City 2 has 2 connections (roads 1-2 and 2-3).\n",
              "\n",
              "Therefore, the combined network rank is 3 + 2 = 5. Since cities 1 and 2 are directly connected, we subtract 1, resulting in a maximal network rank of 4. \n",
              "\n",
              "**Verification:**\n",
              "\n",
              "- **Valid Number of Cities:** The number of cities `n = 6` is within the problem's constraints (2 <= n <= 100).\n",
              "- **Valid Roads:** Each road is represented by a pair of distinct city indices within the range [0, n-1].\n",
              "- **Unique Solution:** The generated data ensures that the maximal network rank is unique. There is no other pair of cities with the same or higher combined rank. \n"
            ],
            "text/plain": [
              "<IPython.core.display.Markdown object>"
            ]
          },
          "metadata": {},
          "output_type": "display_data"
        }
      ],
      "source": [
        "data_prompt = '''\n",
        "Now I want you to generate an accurate data set that\n",
        "I can use to understand and practice solving this LeetCode \n",
        "{lc_problem}.\n",
        "\n",
        "Return the data and variables that I will need along with\n",
        "and explanation of both, in the context of the problem.\n",
        "\n",
        "Include the accurate solution for the generated data set as well.\n",
        "The data set must guaranteed that a unique solution exists.\n",
        "\n",
        "For example, the following data and explanation is included with the\n",
        "original LeetCode problem:\n",
        "\n",
        "Example:\n",
        "Input: n = 4, roads = [[0,1],[0,3],[1,2],[1,3]]\n",
        "Output: 4\n",
        "Explanation: The network rank of cities 0 and 1 is 4 as there are 4 roads that are connected to either 0 or 1. The road between 0 and 1 is only counted once.\n",
        "\n",
        "Example:\n",
        "Input: n = 8, roads = [[0,1],[1,2],[2,3],[2,4],[5,6],[5,7]]\n",
        "Output: 5\n",
        "Explanation: The network rank of 2 and 5 is 5. Notice that all the cities do not have to be connected.\n",
        "\n",
        "Before returning the data I want you to verfiy that it is valid for this problem.\n",
        "'''\n",
        "\n",
        "data_response = chat.send_message(data_prompt)\n",
        "\n",
        "print_md(data_response.text)"
      ]
    },
    {
      "cell_type": "code",
      "execution_count": 14,
      "metadata": {
        "id": "vsEowUHkqw_C"
      },
      "outputs": [],
      "source": [
        "# extract variable, data, and solution\n",
        "n = 6\n",
        "roads = [[0,1],[1,2],[2,3],[3,4],[1,5]]\n",
        "solution = 4"
      ]
    },
    {
      "cell_type": "markdown",
      "metadata": {
        "id": "xLmAaLaPqw_C"
      },
      "source": [
        "## Data Visualization"
      ]
    },
    {
      "cell_type": "code",
      "execution_count": 15,
      "metadata": {
        "colab": {
          "base_uri": "https://localhost:8080/",
          "height": 521
        },
        "id": "QvfS4wjZqw_C",
        "outputId": "452b63df-fed9-4b00-c513-3a593d1acd87"
      },
      "outputs": [
        {
          "data": {
            "image/png": "[encoded data removed]",
            "text/plain": [
              "<Figure size 800x600 with 1 Axes>"
            ]
          },
          "metadata": {},
          "output_type": "display_data"
        }
      ],
      "source": [
        "# Create the directed graph\n",
        "G = nx.Graph()\n",
        "G.add_nodes_from(range(n))\n",
        "G.add_edges_from(roads)\n",
        "\n",
        "\n",
        "# Visualization\n",
        "plt.figure(figsize=(8, 6))\n",
        "pos = nx.spring_layout(G, k=0.3)  # Adjust k for node spacing\n",
        "nx.draw_networkx(G, pos, with_labels=True, node_size=500,\n",
        "                 font_size=10, edge_color='gray')\n",
        "plt.title(\"Undirected Graph Visualization\")\n",
        "plt.show()"
      ]
    },
    {
      "cell_type": "markdown",
      "metadata": {
        "id": "2-ofJdg6qw_D"
      },
      "source": [
        "## Solution Code"
      ]
    },
    {
      "cell_type": "code",
      "execution_count": 16,
      "metadata": {
        "colab": {
          "base_uri": "https://localhost:8080/",
          "height": 515
        },
        "id": "z0mqER5zqw_D",
        "outputId": "d907b8d1-99e8-4b2c-8121-a73c3a05dad2"
      },
      "outputs": [
        {
          "data": {
            "text/markdown": [
              "## Conceptual Approaches to LeetCode 1615. Maximal Network Rank\n",
              "\n",
              "Here are two conceptual approaches to solve LeetCode 1615, along with their complexity analysis:\n",
              "\n",
              "**Approach 1: Brute Force**\n",
              "\n",
              "1. **Iterate through all city pairs:** Use nested loops to consider every possible combination of two cities.\n",
              "2. **Calculate network rank for each pair:** For each pair, calculate the sum of their individual network ranks (degrees) and subtract 1 if they are directly connected.\n",
              "3. **Track the maximum:** Maintain a variable to keep track of the maximum network rank found so far.\n",
              "\n",
              "**Complexity Analysis:**\n",
              "\n",
              "- **Time Complexity:** O(n^3).  We have two nested loops to iterate over all city pairs (O(n^2)), and for each pair, we might need to check if they are connected (which can take up to O(n) time in the worst case if we need to scan the entire list of roads). \n",
              "- **Space Complexity:** O(1). We use a constant amount of extra space to store the maximum network rank and loop variables.\n",
              "\n",
              "**Approach 2: Optimized Degree Calculation**\n",
              "\n",
              "1. **Precalculate Degrees:**  Instead of repeatedly calculating degrees within the nested loops, compute the degree of each city once and store it in an array.\n",
              "2. **Iterate through city pairs:**  Use nested loops to consider all city pairs.\n",
              "3. **Calculate network rank using precomputed degrees:** For each pair, retrieve their precalculated degrees, sum them, and subtract 1 if they are directly connected. \n",
              "4. **Track the maximum:** Maintain a variable to store the maximum network rank found.\n",
              "\n",
              "**Complexity Analysis:**\n",
              "\n",
              "- **Time Complexity:** O(n^2).  We still have nested loops for iterating over city pairs (O(n^2)), but calculating the network rank for each pair now takes constant time (O(1)) because we are using precomputed degrees.\n",
              "- **Space Complexity:** O(n). We use extra space to store the degrees of all cities. \n",
              "\n",
              "**Comparison:**\n",
              "\n",
              "The optimized approach significantly improves the time complexity by reducing the redundant degree calculations. The trade-off is a slight increase in space complexity to store the degrees. \n",
              "\n",
              "In most cases, the optimized approach is preferred due to its better time complexity. The extra space used is usually not a significant concern for the problem's scale. \n"
            ],
            "text/plain": [
              "<IPython.core.display.Markdown object>"
            ]
          },
          "metadata": {},
          "output_type": "display_data"
        }
      ],
      "source": [
        "solution_prompt = '''\n",
        "Now I want to begin developing a solution the problem, \n",
        "{lc_problem}. As a helpful coding assistant, explain the conceptual \n",
        "approaches to solving it. Include an analysis of complexity and runtime \n",
        "for each approach. Do not provide code yet, only the conceptual steps and evaluation.\n",
        "'''\n",
        "\n",
        "solution_response = chat.send_message(solution_prompt)\n",
        "print_md(solution_response.text)\n"
      ]
    },
    {
      "cell_type": "code",
      "execution_count": 17,
      "metadata": {
        "colab": {
          "base_uri": "https://localhost:8080/",
          "height": 752
        },
        "id": "DFUaUsCJqw_D",
        "outputId": "91bf6445-a2c4-4197-9da9-ca746b001844"
      },
      "outputs": [
        {
          "data": {
            "text/markdown": [
              "Let's implement the optimized degree calculation approach in Python:\n",
              "\n",
              "```python\n",
              "def maximalNetworkRank(n, roads):\n",
              "    \"\"\"\n",
              "    Finds the maximal network rank of any two cities.\n",
              "\n",
              "    Args:\n",
              "        n (int): The number of cities.\n",
              "        roads (List[List[int]]): A list of roads, where each road is represented as [city1, city2].\n",
              "\n",
              "    Returns:\n",
              "        int: The maximal network rank.\n",
              "    \"\"\"\n",
              "    \n",
              "    # Step 1: Precalculate Degrees\n",
              "    degrees = [0] * n  # Initialize an array to store degrees of each city\n",
              "    for road in roads:\n",
              "        city1, city2 = road\n",
              "        degrees[city1] += 1  # Increment degree for city1\n",
              "        degrees[city2] += 1  # Increment degree for city2\n",
              "\n",
              "    # Step 2: Iterate through City Pairs\n",
              "    max_rank = 0 \n",
              "    for i in range(n):\n",
              "        for j in range(i + 1, n):  # Avoid redundant checks and comparing a city to itself\n",
              "            \n",
              "            # Step 3: Calculate Network Rank using Precomputed Degrees\n",
              "            rank = degrees[i] + degrees[j]\n",
              "            if [i, j] in roads or [j, i] in roads:  # Check if cities are directly connected\n",
              "                rank -= 1 \n",
              "            \n",
              "            # Step 4: Track the Maximum\n",
              "            max_rank = max(max_rank, rank) \n",
              "\n",
              "    return max_rank\n",
              "```\n",
              "\n",
              "**Explanation:**\n",
              "\n",
              "1. **Precalculate Degrees:**\n",
              "   - `degrees = [0] * n`: We create an array `degrees` to store the degree of each city, initialized with zeros.\n",
              "   - The loop iterates through each `road` in `roads`.\n",
              "   - `degrees[city1] += 1` and `degrees[city2] += 1`: We increment the degree of both cities connected by the road.\n",
              "\n",
              "2. **Iterate through City Pairs:**\n",
              "   - We use nested loops to consider all possible pairs of cities (`i` and `j`).\n",
              "   - `range(i + 1, n)`:  We start the inner loop from `i + 1` to avoid checking the same pair twice (since order doesn't matter) and comparing a city to itself.\n",
              "\n",
              "3. **Calculate Network Rank using Precomputed Degrees:**\n",
              "   - `rank = degrees[i] + degrees[j]`: We directly access the precalculated degrees of the two cities to calculate their combined rank.\n",
              "   - The `if` condition checks if the cities are directly connected (a road exists between them). If so, we subtract 1 to avoid double counting the shared road.\n",
              "\n",
              "4. **Track the Maximum:**\n",
              "   - `max_rank = max(max_rank, rank)`: We continuously update `max_rank` to store the highest network rank encountered during the iteration.\n",
              "\n",
              "Finally, the function returns `max_rank`, which represents the maximal network rank among all city pairs. \n"
            ],
            "text/plain": [
              "<IPython.core.display.Markdown object>"
            ]
          },
          "metadata": {},
          "output_type": "display_data"
        }
      ],
      "source": [
        "solution_prompt = '''\n",
        "Let's walk through solving this problem by using\n",
        "the optimized degree calculation approach. Walk me through the\n",
        "implementation steps using Python. I want to make sure I\n",
        "understand the code implementation for each step.\n",
        "Use the variables specified in the Leetcode problem itself.\n",
        "'''\n",
        "\n",
        "solution_response = chat.send_message(solution_prompt)\n",
        "print_md(solution_response.text)"
      ]
    },
    {
      "cell_type": "code",
      "execution_count": 31,
      "metadata": {
        "id": "C6n5ZmMkqw_D"
      },
      "outputs": [],
      "source": [
        "class Solution:    \n",
        "    def maximalNetworkRank(self, n, roads):\n",
        "        \"\"\"\n",
        "        Finds the maximal network rank of any two cities.\n",
        "\n",
        "        Args:\n",
        "            n (int): The number of cities.\n",
        "            roads (List[List[int]]): A list of roads, where each road is represented as [city1, city2].\n",
        "\n",
        "        Returns:\n",
        "            int: The maximal network rank.\n",
        "        \"\"\"\n",
        "        \n",
        "        # Step 1: Precalculate Degrees\n",
        "        degrees = [0] * n  # Initialize an array to store degrees of each city\n",
        "        for road in roads:\n",
        "            city1, city2 = road\n",
        "            degrees[city1] += 1  # Increment degree for city1\n",
        "            degrees[city2] += 1  # Increment degree for city2\n",
        "\n",
        "        # Step 2: Iterate through City Pairs\n",
        "        max_rank = 0 \n",
        "        for i in range(n):\n",
        "            for j in range(i + 1, n):  # Avoid redundant checks and comparing a city to itself\n",
        "                \n",
        "                # Step 3: Calculate Network Rank using Precomputed Degrees\n",
        "                rank = degrees[i] + degrees[j]\n",
        "                if [i, j] in roads or [j, i] in roads:  # Check if cities are directly connected\n",
        "                    rank -= 1 \n",
        "                \n",
        "                # Step 4: Track the Maximum\n",
        "                max_rank = max(max_rank, rank) \n",
        "\n",
        "        return max_rank"
      ]
    },
    {
      "cell_type": "markdown",
      "metadata": {
        "id": "6y3Lk-DSqw_D"
      },
      "source": [
        "## Test Solution on Initial Data"
      ]
    },
    {
      "cell_type": "code",
      "execution_count": 32,
      "metadata": {
        "colab": {
          "base_uri": "https://localhost:8080/"
        },
        "id": "Vhr3yAOkqw_D",
        "outputId": "1513fed6-09e1-46f5-a5ba-8fbef8af9ab9"
      },
      "outputs": [
        {
          "name": "stdout",
          "output_type": "stream",
          "text": [
            "Correct answer: 4\n",
            "Function response: 5\n"
          ]
        },
        {
          "ename": "AssertionError",
          "evalue": "",
          "output_type": "error",
          "traceback": [
            "\u001b[0;31m---------------------------------------------------------------------------\u001b[0m",
            "\u001b[0;31mAssertionError\u001b[0m                            Traceback (most recent call last)",
            "Cell \u001b[0;32mIn[32], line 10\u001b[0m\n\u001b[1;32m      8\u001b[0m \u001b[38;5;28mprint\u001b[39m(\u001b[38;5;124m'\u001b[39m\u001b[38;5;124mCorrect answer:\u001b[39m\u001b[38;5;124m'\u001b[39m, solution)\n\u001b[1;32m      9\u001b[0m \u001b[38;5;28mprint\u001b[39m(\u001b[38;5;124m'\u001b[39m\u001b[38;5;124mFunction response:\u001b[39m\u001b[38;5;124m'\u001b[39m, answer)\n\u001b[0;32m---> 10\u001b[0m \u001b[38;5;28;01massert\u001b[39;00m solution \u001b[38;5;241m==\u001b[39m answer\n",
            "\u001b[0;31mAssertionError\u001b[0m: "
          ]
        }
      ],
      "source": [
        "# instantiate solution\n",
        "sol = Solution()\n",
        "\n",
        "# run function\n",
        "answer = sol.maximalNetworkRank(n=n, roads=roads)\n",
        "\n",
        "# confirm result\n",
        "print('Correct answer:', solution)\n",
        "print('Function response:', answer)\n",
        "assert solution == answer"
      ]
    },
    {
      "cell_type": "markdown",
      "metadata": {
        "id": "Efsn5DcWXyXJ"
      },
      "source": [
        "## Conclusion\n",
        "In this notebook we demonstrated how to use Google Gemini as a learning assistant for graph theory and LeetCode. We went beyond just \"grinding LeetCode\" to understand the graph theory concepts behind the problem. From there, we evaluated approaches to solve the solution and created one that takes the most straightforward approach.\n",
        "\n",
        "While this is just a start, there is more we can do to use LLMs as a learning assistant (maybe even function calling to apply these concepts to a graph). More on that with later notebooks."
      ]
    },
    {
      "cell_type": "code",
      "execution_count": null,
      "metadata": {
        "id": "OGH5W8g3YX7u"
      },
      "outputs": [],
      "source": []
    }
  ],
  "metadata": {
    "colab": {
      "provenance": []
    },
    "kernelspec": {
      "display_name": "torch",
      "language": "python",
      "name": "python3"
    },
    "language_info": {
      "codemirror_mode": {
        "name": "ipython",
        "version": 3
      },
      "file_extension": ".py",
      "mimetype": "text/x-python",
      "name": "python",
      "nbconvert_exporter": "python",
      "pygments_lexer": "ipython3",
      "version": "3.11.8"
    }
  },
  "nbformat": 4,
  "nbformat_minor": 0
}
