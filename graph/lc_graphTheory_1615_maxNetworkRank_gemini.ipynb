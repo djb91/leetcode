{
  "cells": [
    {
      "cell_type": "markdown",
      "metadata": {
        "id": "iNEUZXMNqw-8"
      },
      "source": [
        "# LeetCode 1615. Maximal Network Rank\n",
        "\n",
        "## Background\n",
        "LeetCode has a [curated library of 45 graph problems](https://leetcode.com/studyplan/graph-theory/) that cover eight graph topics including `graph theory`, `Dijkstra's (pathfinding)`, and `traversals` among others.\n",
        "\n",
        "## Problem\n",
        "In this notebook we will analyze [1615. Maximal Network Rank](https://leetcode.com/problems/maximal-network-rank/description/?envType=study-plan-v2&envId=graph-theory).\n",
        "\n",
        " This problem is classified by LeetCode as:\n",
        "* Topic: Graph Theory\n",
        "* Difficulty: Medium\n",
        "* Tags: Graph (though it could include Node Degree, Directed Graphs, and DAGs)\n",
        "\n",
        "In addition to developing solution code, we will use Google Gemini to help us understand the problem and go beyond the code.\n",
        "\n"
      ]
    },
    {
      "cell_type": "markdown",
      "metadata": {
        "id": "ugOIAHUtqw-9"
      },
      "source": [
        "## Instantiate Gemini using the Gemini API"
      ]
    },
    {
      "cell_type": "code",
      "execution_count": 3,
      "metadata": {},
      "outputs": [],
      "source": [
        "import warnings\n",
        "warnings.filterwarnings(\"ignore\")"
      ]
    },
    {
      "cell_type": "code",
      "execution_count": 4,
      "metadata": {
        "id": "WcAIxQCfqw--"
      },
      "outputs": [],
      "source": [
        "# !pip install python-dotenv --upgrade --quiet\n",
        "from dotenv import load_dotenv\n",
        "import os\n",
        "\n",
        "# !pip install tqdm --upgrade --quiet\n",
        "import tqdm as notebook_tqdm\n",
        "\n",
        "# !pip install -U -q google.generativeai\n",
        "import google.generativeai as genai"
      ]
    },
    {
      "cell_type": "code",
      "execution_count": 5,
      "metadata": {
        "id": "asHGAucAqw-_"
      },
      "outputs": [],
      "source": [
        "# read API key from local .env \n",
        "load_dotenv()\n",
        "if \"GOOGLE_API_KEY\" not in os.environ:\n",
        "    os.environ[\"GOOGLE_API_KEY\"] = os.getenv('GOOGLE_API_KEY')"
      ]
    },
    {
      "cell_type": "code",
      "execution_count": 6,
      "metadata": {
        "id": "vP1CYDtbqw-_"
      },
      "outputs": [],
      "source": [
        "# # instantiate the LLM\n",
        "genai.configure(api_key=os.environ[\"GOOGLE_API_KEY\"])\n",
        "model = genai.GenerativeModel('gemini-1.5-pro-latest')\n"
      ]
    },
    {
      "cell_type": "code",
      "execution_count": 7,
      "metadata": {
        "id": "zGfelVYXqw-_"
      },
      "outputs": [],
      "source": [
        "# to print markdown code\n",
        "from IPython.display import display, Markdown\n",
        "\n",
        "def print_md(string):\n",
        "    display(Markdown(string))"
      ]
    },
    {
      "cell_type": "code",
      "execution_count": 8,
      "metadata": {
        "colab": {
          "base_uri": "https://localhost:8080/",
          "height": 392
        },
        "id": "kEEMNm9yqw_A",
        "outputId": "d58d0c70-6a27-45cb-9f07-3caf206d001e"
      },
      "outputs": [
        {
          "data": {
            "text/markdown": [
              "Think of graph theory as the mathematics of connections. It studies objects (called **nodes** or vertices) and their relationships (represented by **edges**).  \n",
              "\n",
              "**Why is this important for you, a data scientist?**\n",
              "\n",
              "* **Understanding Relationships:** Graph theory lets you model relationships within your data.  For example, in a social network, nodes could be users and edges could represent friendships.  This allows you to analyze network structure, identify influencers, and predict user behavior.\n",
              "* **Finding Patterns:**  Graphs are fantastic for uncovering patterns.  Think about recommendation systems – items and users are nodes, and \"likes\" are edges. This structure helps find similar users or suggest products based on shared preferences. \n",
              "* **Optimization:** Need to find the shortest route for deliveries? Or the most efficient flow in a network?  Graph algorithms like Dijkstra's and Ford-Fulkerson are your tools.\n",
              "\n",
              "**Practical Applications for Data Scientists:**\n",
              "\n",
              "* **Social Network Analysis:**  Community detection, influence prediction, link prediction\n",
              "* **Recommendation Systems:** Collaborative filtering, personalized suggestions\n",
              "* **Fraud Detection:** Identifying suspicious connections and patterns\n",
              "* **Natural Language Processing:**  Building knowledge graphs, understanding semantic relationships\n",
              "* **Biological Networks:** Analyzing protein interactions, gene regulatory networks\n",
              "\n",
              "In short, graph theory gives you a powerful framework to represent and analyze connected data, leading to valuable insights and solutions in various data science domains. \n"
            ],
            "text/plain": [
              "<IPython.core.display.Markdown object>"
            ]
          },
          "metadata": {},
          "output_type": "display_data"
        }
      ],
      "source": [
        "# test model with a simple prompt\n",
        "test_prompt = '''\n",
        "You are an expert in graph theory. I am a data scientist.\n",
        "Provide a simple, concise explanation of what graph theory is\n",
        "and why it is important to a data scientist. Focus on practical\n",
        "applications.\n",
        "'''\n",
        "\n",
        "test_response = model.generate_content(test_prompt)\n",
        "print_md(test_response.text)"
      ]
    },
    {
      "cell_type": "markdown",
      "metadata": {
        "id": "KemOBhMgqw_A"
      },
      "source": [
        "## LeetCode Problem Overview\n",
        "First we will ask Gemini to provide an overview of the problem with a focus on identifying and explaining the graph theory concepts involved."
      ]
    },
    {
      "cell_type": "code",
      "execution_count": 11,
      "metadata": {
        "id": "4lp0VubMqw_B"
      },
      "outputs": [],
      "source": [
        "# instantiate Gemini for multi-turn chat with an empty history\n",
        "chat = model.start_chat(history=[])"
      ]
    },
    {
      "cell_type": "code",
      "execution_count": 12,
      "metadata": {
        "id": "1L8JF1mpQfIk"
      },
      "outputs": [],
      "source": [
        "lc_problem = '1615. Maximal Network Rank'"
      ]
    },
    {
      "cell_type": "code",
      "execution_count": 13,
      "metadata": {
        "colab": {
          "base_uri": "https://localhost:8080/",
          "height": 815
        },
        "id": "3N8M3hPlqw_B",
        "outputId": "84371cf3-1bdc-429e-e67d-6f244164680e"
      },
      "outputs": [
        {
          "data": {
            "text/markdown": [
              "## LeetCode 1615. Maximal Network Rank: A Graph Theory Perspective\n",
              "\n",
              "**Problem Overview:**\n",
              "\n",
              "LeetCode 1615. Maximal Network Rank asks you to find the maximal network rank of a network represented by an undirected graph. The network rank of two different cities is defined as the total number of directly connected roads to either city. The problem gives you the number of cities (n) and an array of roads represented as pairs of connected cities (roads). Your task is to find the maximal network rank among all possible pairs of cities in the network. \n",
              "\n",
              "**Graph Domain Classification:**\n",
              "\n",
              "This problem falls under the domain of **infrastructure network analysis**.  \n",
              "\n",
              "**Explanation:**\n",
              "\n",
              "The cities and roads in the problem can be seen as a representation of a real-world infrastructure network, such as a transportation network (e.g., roads, railways) or a communication network (e.g., internet, telephone lines).  We are essentially analyzing the connectivity of this network to find the pair of cities with the highest combined number of connections, which represents a critical point for network robustness and potential bottlenecks.\n",
              "\n",
              "**Graph Theory Concepts Involved:**\n",
              "\n",
              "1. **Undirected Graph:** The problem specifies an undirected graph, meaning the connections (roads) between cities work in both directions.  This is a fundamental concept in graph theory, distinguishing it from directed graphs where connections have specific directionality.\n",
              "\n",
              "   * **Detailed Explanation:**  An undirected graph G consists of a set of vertices (V) representing the cities and a set of edges (E) representing the roads. Each edge connects two vertices, and the order of the vertices in the edge doesn't matter. \n",
              "   * **Practical Applications:** Undirected graphs are used to model various relationships where direction doesn't matter, such as friendships in a social network, connections in a power grid, or molecules in a chemical compound.\n",
              "\n",
              "2. **Degree of a Vertex:** The degree of a vertex in an undirected graph is the number of edges connected to that vertex. In this problem, the degree of a city represents the number of roads directly connected to it.\n",
              "\n",
              "   * **Detailed Explanation:** The degree of a vertex v in graph G is the number of edges incident to v. In simple graphs, a loop contributes 2 to the degree of the vertex.\n",
              "   * **Practical Applications:** Degree is a fundamental measure of centrality in a network, often used in social network analysis to identify influential individuals or in web page ranking algorithms to identify important pages.\n",
              "\n",
              "3. **Network Rank:** This problem introduces the concept of \"network rank,\" which is defined as the sum of the degrees of two distinct vertices. It essentially measures the combined connectivity of two cities within the network.\n",
              "\n",
              "   * **Detailed Explanation:** Network rank, specific to this problem, is a custom metric derived from the degree of vertices. It quantifies the overall connectivity involving two specific nodes in the network.\n",
              "   * **Practical Applications:** While not a standard graph theory concept, the idea of combined connectivity is relevant in network resilience analysis. Identifying nodes with high network rank can highlight potential points of failure or bottlenecks in the network. \n",
              "\n",
              "By understanding these graph theory concepts and their application within the context of infrastructure network analysis, we can build a solid foundation for approaching the LeetCode 1615 problem and developing an efficient solution. \n"
            ],
            "text/plain": [
              "<IPython.core.display.Markdown object>"
            ]
          },
          "metadata": {},
          "output_type": "display_data"
        }
      ],
      "source": [
        "problem_prompt = f'''\n",
        "You are a helpful assistant who is an expert in graph theory, graph algorithms and\n",
        "LeetCode problems. I want you to help me understand a LeetCode graph problem from\n",
        "a graph theory perspective. Let's take this step-by-step.\n",
        "\n",
        "First, provide an overview of Leetcode {lc_problem}.\n",
        "\n",
        "Next, classify the graph domain of this problem (e.g., social network analysis,\n",
        "recommendation system, pathfinding, or others -- you are not limited to these\n",
        "choices) and provide an explanation of why it is categorized in this way.\n",
        "\n",
        "Finally, identify and describe each graph theory concept involved in the problem and solution.\n",
        "For each graph theory concept, give a detailed explanation of that concept and how\n",
        "it relates to this problem. Also describe the practical applications of these graph theory\n",
        "concepts.\n",
        "\n",
        "Do not provide a solution to the problem at this time. We will do that later.\n",
        "'''\n",
        "\n",
        "problem_response = chat.send_message(problem_prompt)\n",
        "\n",
        "print_md(problem_response.text)\n",
        "\n",
        "# print(problem_prompt)"
      ]
    },
    {
      "cell_type": "markdown",
      "metadata": {
        "id": "na7JxRoyqw_B"
      },
      "source": [
        "## Data Set"
      ]
    },
    {
      "cell_type": "code",
      "execution_count": null,
      "metadata": {
        "colab": {
          "base_uri": "https://localhost:8080/",
          "height": 460
        },
        "id": "QpbOee9vqw_C",
        "outputId": "93d390bf-08e7-46e1-87cd-a10718795cb0"
      },
      "outputs": [
        {
          "data": {
            "text/markdown": [
              "## Data Set and Explanation\n",
              "\n",
              "**Input:**\n",
              "\n",
              "* `n = 7` (Number of nodes in the graph)\n",
              "* `edges = [[0,1], [0,2], [1,3], [2,4], [3,5], [4,6], [5,6]]` (List of directed edges in the graph)\n",
              "\n",
              "**Explanation:**\n",
              "\n",
              "This data represents a directed acyclic graph (DAG) with 7 nodes labeled from 0 to 6. Each edge `[a, b]` signifies a directed connection from node `a` to node `b`.\n",
              "\n",
              "Let's visualize the graph:\n",
              "\n",
              "```\n",
              "0 --> 1 --> 3 --> 5 \n",
              " \\     /       \\     \\\n",
              "  --> 2 --> 4 ----> 6\n",
              "```\n",
              "\n",
              "**Solution:**\n",
              "\n",
              "`[0]` \n",
              "\n",
              "**Explanation of the Solution:**\n",
              "\n",
              "The only source node in this graph is node `0`. All other nodes can be reached by starting from node `0` and following the directed edges.\n",
              "\n",
              "**Why This Dataset Guarantees a Unique Solution:**\n",
              "\n",
              "* **Single Source:** The structure of the graph is designed with a single, clear source node (node `0`).  \n",
              "* **Reachability:** All other nodes are descendants of node `0`, ensuring full reachability from this single point. \n",
              "* **No Alternate Paths:** The graph avoids redundant paths that would create alternative starting points. \n",
              "\n",
              "This deliberate design ensures that only one possible minimum set of vertices exists to reach all nodes in the graph. \n"
            ],
            "text/plain": [
              "<IPython.core.display.Markdown object>"
            ]
          },
          "metadata": {},
          "output_type": "display_data"
        }
      ],
      "source": [
        "data_prompt = '''\n",
        "Now I want you to generate an accurate data set that\n",
        "I can use to understand and practice solving this LeetCode problem.\n",
        "\n",
        "Return the data and variables that I will need along with\n",
        "and explanation of both, in the context of the problem.\n",
        "\n",
        "Include the accurate solution for the generated data set as well.\n",
        "The data set must guaranteed that a unique solution exists.\n",
        "\n",
        "For example, the following data and explanation is included with the\n",
        "original LeetCode problem:\n",
        "\n",
        "\"Input: n = 6, edges = [[0,1],[0,2],[2,5],[3,4],[4,2]]\n",
        "Output: [0,3]\n",
        "Explanation: It's not possible to reach all the nodes from a single vertex.\n",
        "From 0 we can reach [0,1,2,5]. From 3 we can reach [3,4,2,5]. So we output [0,3].\"\n",
        "\n",
        "'''\n",
        "\n",
        "data_response = chat.send_message(data_prompt)\n",
        "\n",
        "print_md(data_response.text)"
      ]
    },
    {
      "cell_type": "code",
      "execution_count": null,
      "metadata": {
        "id": "vsEowUHkqw_C"
      },
      "outputs": [],
      "source": [
        "# extract variable, data, and solution\n",
        "n = 7\n",
        "edges = [[0,1], [0,2], [1,3], [2,4], [3,5], [4,6], [5,6]]\n",
        "solution = [0]"
      ]
    },
    {
      "cell_type": "markdown",
      "metadata": {
        "id": "xLmAaLaPqw_C"
      },
      "source": [
        "## Data Visualization"
      ]
    },
    {
      "cell_type": "code",
      "execution_count": null,
      "metadata": {
        "colab": {
          "base_uri": "https://localhost:8080/",
          "height": 726
        },
        "id": "hCX_BBKkqw_C",
        "outputId": "281ab8a0-22c8-49ba-a3e7-ca40f42c23bf"
      },
      "outputs": [
        {
          "data": {
            "text/markdown": [
              "```python\n",
              "import networkx as nx\n",
              "import matplotlib.pyplot as plt\n",
              "\n",
              "# Data\n",
              "n = 7\n",
              "edges = [[0, 1], [0, 2], [1, 3], [2, 4], [3, 5], [4, 6], [5, 6]]\n",
              "\n",
              "# Create the directed graph\n",
              "G = nx.DiGraph()\n",
              "G.add_nodes_from(range(n))\n",
              "G.add_edges_from(edges)\n",
              "\n",
              "# Find source nodes\n",
              "source_nodes = [node for node in G.nodes if G.in_degree(node) == 0]\n",
              "\n",
              "# Define node colors\n",
              "node_colors = ['lightgreen' if node in source_nodes else 'lightblue' for node in G.nodes]\n",
              "\n",
              "# Visualization\n",
              "plt.figure(figsize=(8, 6))\n",
              "pos = nx.spring_layout(G, k=0.3)  # Adjust k for node spacing\n",
              "nx.draw_networkx(G, pos, with_labels=True, node_size=500, \n",
              "                 node_color=node_colors, font_size=10, \n",
              "                 arrowstyle='->', arrowsize=10, \n",
              "                 edge_color='gray')\n",
              "plt.title(\"Directed Graph Visualization\")\n",
              "plt.show()\n",
              "```\n",
              "\n",
              "**Explanation:**\n",
              "\n",
              "1. **Import Libraries:** We import `networkx` for graph operations and `matplotlib.pyplot` for plotting.\n",
              "2. **Create Graph:** We construct the directed graph `G` using the provided edges and nodes.\n",
              "3. **Identify Source Nodes:**  We iterate through nodes to find source nodes (nodes with in-degree 0).\n",
              "4. **Node Colors:** We create a list `node_colors` to assign 'lightgreen' to source nodes and 'lightblue' to other nodes.\n",
              "5. **Visualization:** \n",
              "   - We use `spring_layout` for a visually pleasing arrangement of nodes.\n",
              "   - `nx.draw_networkx` draws the graph with labels, node colors, and arrow styles for directed edges.\n",
              "   - The `plt.title` function sets the title of the plot.\n",
              "   - `plt.show` displays the final visualization.\n",
              "\n",
              "This code generates a clear visualization of the DAG with the source node highlighted in a different color. \n"
            ],
            "text/plain": [
              "<IPython.core.display.Markdown object>"
            ]
          },
          "metadata": {},
          "output_type": "display_data"
        }
      ],
      "source": [
        "dataViz_prompt = '''\n",
        "I want you to help me generate Python code to visualize the\n",
        "trust data set as a directed graph in a Jupyter notebook.\n",
        "\n",
        "Include formatting so that the source node is a different color in the graph\n",
        "and the overall visualization is visually appealing. Also use the common syntax\n",
        "of G to represent the Network X graph object.\n",
        "'''\n",
        "\n",
        "dataViz_response = chat.send_message(dataViz_prompt)\n",
        "\n",
        "print_md(dataViz_response.text)"
      ]
    },
    {
      "cell_type": "code",
      "execution_count": null,
      "metadata": {
        "id": "TPCT19rEqw_C"
      },
      "outputs": [],
      "source": [
        "# !pip install networkx --upgrade --quiet\n",
        "# !pip install matplotlib --upgrade --quiet\n",
        "\n",
        "import networkx as nx\n",
        "import matplotlib.pyplot as plt"
      ]
    },
    {
      "cell_type": "code",
      "execution_count": null,
      "metadata": {
        "colab": {
          "base_uri": "https://localhost:8080/",
          "height": 521
        },
        "id": "QvfS4wjZqw_C",
        "outputId": "452b63df-fed9-4b00-c513-3a593d1acd87"
      },
      "outputs": [
        {
          "data": {
            "image/png": "[encoded data removed]",
            "text/plain": [
              "<Figure size 800x600 with 1 Axes>"
            ]
          },
          "metadata": {},
          "output_type": "display_data"
        }
      ],
      "source": [
        "# Create the directed graph\n",
        "G = nx.DiGraph()\n",
        "G.add_nodes_from(range(n))\n",
        "G.add_edges_from(edges)\n",
        "\n",
        "# Find source nodes\n",
        "source_nodes = [node for node in G.nodes if G.in_degree(node) == 0]\n",
        "\n",
        "# Define node colors\n",
        "node_colors = ['lightgreen' if node in source_nodes else 'lightblue' for node in G.nodes]\n",
        "\n",
        "# Visualization\n",
        "plt.figure(figsize=(8, 6))\n",
        "pos = nx.spring_layout(G, k=0.3)  # Adjust k for node spacing\n",
        "nx.draw_networkx(G, pos, with_labels=True, node_size=500,\n",
        "                 node_color=node_colors, font_size=10,\n",
        "                 arrowstyle='->', arrowsize=10,\n",
        "                 edge_color='gray')\n",
        "plt.title(\"Directed Graph Visualization\")\n",
        "plt.show()"
      ]
    },
    {
      "cell_type": "markdown",
      "metadata": {
        "id": "2-ofJdg6qw_D"
      },
      "source": [
        "## Solution Code"
      ]
    },
    {
      "cell_type": "code",
      "execution_count": null,
      "metadata": {
        "colab": {
          "base_uri": "https://localhost:8080/",
          "height": 515
        },
        "id": "z0mqER5zqw_D",
        "outputId": "d907b8d1-99e8-4b2c-8121-a73c3a05dad2"
      },
      "outputs": [
        {
          "data": {
            "text/markdown": [
              "## Conceptual Approaches to Finding Minimum Vertices\n",
              "\n",
              "Here are two conceptual approaches to solve the \"Minimum Number of Vertices to Reach All Nodes\" problem:\n",
              "\n",
              "**1. Depth-First Search (DFS) Based Approach:**\n",
              "\n",
              "* **Concept:**\n",
              "    1. **Identify Source Nodes:** Start by finding all the source nodes in the graph (nodes with no incoming edges). These are definitely part of the solution set.\n",
              "    2. **DFS Traversal:** Perform a depth-first search starting from each source node. Mark all reachable nodes during the traversal.\n",
              "    3. **Minimize Sources:** If a source node can reach all nodes already covered by other source nodes, it can be removed from the solution set.\n",
              "\n",
              "* **Complexity Analysis:**\n",
              "    - **Time Complexity:** O(V + E) where V is the number of vertices (nodes) and E is the number of edges in the graph.  DFS traversal takes linear time in the size of the graph.\n",
              "    - **Space Complexity:** O(V) - to store the graph and for the recursion stack during DFS.\n",
              "\n",
              "**2.  Direct Source Node Identification:**\n",
              "\n",
              "* **Concept:**\n",
              "    - **In-Degree Analysis:**  Directly analyze the in-degree of each node in the graph. \n",
              "    - **Source Nodes:** Nodes with an in-degree of 0 are the source nodes, as they have no incoming edges. \n",
              "\n",
              "* **Complexity Analysis:**\n",
              "    - **Time Complexity:** O(V + E) - Iterating through the edges to calculate in-degrees takes linear time in the size of the graph.\n",
              "    - **Space Complexity:** O(V) - To store the graph and in-degree information for each node.\n",
              "\n",
              "**Evaluation:**\n",
              "\n",
              "Both approaches have the same time complexity, but the **direct source node identification** approach is generally considered more efficient and conceptually simpler. It directly leverages the defining property of source nodes (in-degree = 0) without the need for extensive graph traversal like DFS. \n",
              "\n",
              "For this specific LeetCode problem, where the input is a DAG, the direct source node identification method is the more straightforward and preferred solution. \n"
            ],
            "text/plain": [
              "<IPython.core.display.Markdown object>"
            ]
          },
          "metadata": {},
          "output_type": "display_data"
        }
      ],
      "source": [
        "solution_prompt = '''\n",
        "Now I want to begin developing a solution the problem.\n",
        "As a helpful coding assistant, explain the conceptual approaches.\n",
        "Include an analysis of complexity and runtime for each approach.\n",
        "Do not provide code yet, only the conceptual steps and evaluation.\n",
        "'''\n",
        "\n",
        "solution_response = chat.send_message(solution_prompt)\n",
        "print_md(solution_response.text)\n"
      ]
    },
    {
      "cell_type": "code",
      "execution_count": null,
      "metadata": {
        "colab": {
          "base_uri": "https://localhost:8080/",
          "height": 752
        },
        "id": "DFUaUsCJqw_D",
        "outputId": "91bf6445-a2c4-4197-9da9-ca746b001844"
      },
      "outputs": [
        {
          "data": {
            "text/markdown": [
              "## Python Implementation: Source Node Identification\n",
              "\n",
              "Here's a step-by-step implementation using source node identification:\n",
              "\n",
              "```python\n",
              "def findSmallestSetOfVertices(n: int, edges: list[list[int]]) -> list[int]:\n",
              "    \"\"\"\n",
              "    Finds the minimum set of vertices to reach all nodes in a DAG.\n",
              "\n",
              "    Args:\n",
              "        n: The number of nodes in the graph (labeled from 0 to n - 1).\n",
              "        edges: A list of edges, where each edge is a list [source, destination].\n",
              "\n",
              "    Returns:\n",
              "        A list of vertices representing the minimum set.\n",
              "    \"\"\"\n",
              "\n",
              "    # 1. Initialize In-Degree Array\n",
              "    in_degree = [0] * n \n",
              "\n",
              "    # 2. Calculate In-Degrees\n",
              "    for source, destination in edges:\n",
              "        in_degree[destination] += 1\n",
              "\n",
              "    # 3. Identify Source Nodes \n",
              "    source_nodes = []\n",
              "    for node in range(n):\n",
              "        if in_degree[node] == 0:\n",
              "            source_nodes.append(node)\n",
              "\n",
              "    # 4. Return Source Nodes\n",
              "    return source_nodes \n",
              "```\n",
              "\n",
              "**Explanation:**\n",
              "\n",
              "1. **Initialize In-Degree Array:** We create a list `in_degree` of size `n` filled with zeros. This array will store the in-degree (number of incoming edges) for each node.\n",
              "\n",
              "2. **Calculate In-Degrees:** We iterate through the `edges` list. For each edge `[source, destination]`, we increment the in-degree count of the `destination` node.\n",
              "\n",
              "3. **Identify Source Nodes:** We traverse the `in_degree` array. If `in_degree[node]` is 0, it means that node has no incoming edges, making it a source node. We append these source nodes to the `source_nodes` list.\n",
              "\n",
              "4. **Return Source Nodes:** Finally, we return the `source_nodes` list, which contains the minimum set of vertices required to reach all other nodes in the DAG.\n"
            ],
            "text/plain": [
              "<IPython.core.display.Markdown object>"
            ]
          },
          "metadata": {},
          "output_type": "display_data"
        }
      ],
      "source": [
        "solution_prompt = '''\n",
        "Let's walk through solving this problem by using source\n",
        "node identification. Walk me through the\n",
        "implementation steps using Python. I want to make sure I\n",
        "understand the code implementation for each step.\n",
        "Use the variables specified in the Leetcode problem itself.\n",
        "'''\n",
        "\n",
        "solution_response = chat.send_message(solution_prompt)\n",
        "print_md(solution_response.text)"
      ]
    },
    {
      "cell_type": "code",
      "execution_count": null,
      "metadata": {
        "id": "C6n5ZmMkqw_D"
      },
      "outputs": [],
      "source": [
        "# import typing for type hints\n",
        "from typing import List\n",
        "\n",
        "class Solution:\n",
        "    def findSmallestSetOfVertices(self, n: int, edges: list[list[int]]) -> list[int]:\n",
        "        \"\"\"\n",
        "        Finds the minimum set of vertices to reach all nodes in a DAG.\n",
        "\n",
        "        Args:\n",
        "            n: The number of nodes in the graph (labeled from 0 to n - 1).\n",
        "            edges: A list of edges, where each edge is a list [source, destination].\n",
        "\n",
        "        Returns:\n",
        "            A list of vertices representing the minimum set.\n",
        "        \"\"\"\n",
        "\n",
        "        # 1. Initialize In-Degree Array\n",
        "        in_degree = [0] * n\n",
        "\n",
        "        # 2. Calculate In-Degrees\n",
        "        for source, destination in edges:\n",
        "            in_degree[destination] += 1\n",
        "\n",
        "        # 3. Identify Source Nodes\n",
        "        source_nodes = []\n",
        "        for node in range(n):\n",
        "            if in_degree[node] == 0:\n",
        "                source_nodes.append(node)\n",
        "\n",
        "        # 4. Return Source Nodes\n",
        "        return source_nodes\n",
        "\n"
      ]
    },
    {
      "cell_type": "markdown",
      "metadata": {
        "id": "6y3Lk-DSqw_D"
      },
      "source": [
        "## Test Solution on Initial Data"
      ]
    },
    {
      "cell_type": "code",
      "execution_count": null,
      "metadata": {
        "colab": {
          "base_uri": "https://localhost:8080/"
        },
        "id": "Vhr3yAOkqw_D",
        "outputId": "1513fed6-09e1-46f5-a5ba-8fbef8af9ab9"
      },
      "outputs": [
        {
          "name": "stdout",
          "output_type": "stream",
          "text": [
            "Correct answer: [0]\n",
            "Function response: [0]\n"
          ]
        }
      ],
      "source": [
        "# instantiate solution\n",
        "sol = Solution()\n",
        "\n",
        "# run function\n",
        "answer = sol.findSmallestSetOfVertices(n=n, edges=edges)\n",
        "\n",
        "# confirm result\n",
        "print('Correct answer:', solution)\n",
        "print('Function response:', answer)\n",
        "assert solution == answer"
      ]
    },
    {
      "cell_type": "markdown",
      "metadata": {
        "id": "Efsn5DcWXyXJ"
      },
      "source": [
        "## Conclusion\n",
        "In this notebook we demonstrated how to use Google Gemini as a learning assistant for graph theory and LeetCode. We went beyond just \"grinding LeetCode\" to understand the graph theory concepts behind the problem. From there, we evaluated approaches to solve the solution and created one that takes the most straightforward approach.\n",
        "\n",
        "While this is just a start, there is more we can do to use LLMs as a learning assistant (maybe even function calling to apply these concepts to a graph). More on that with later notebooks."
      ]
    },
    {
      "cell_type": "code",
      "execution_count": null,
      "metadata": {
        "id": "OGH5W8g3YX7u"
      },
      "outputs": [],
      "source": []
    }
  ],
  "metadata": {
    "colab": {
      "provenance": []
    },
    "kernelspec": {
      "display_name": "torch",
      "language": "python",
      "name": "python3"
    },
    "language_info": {
      "codemirror_mode": {
        "name": "ipython",
        "version": 3
      },
      "file_extension": ".py",
      "mimetype": "text/x-python",
      "name": "python",
      "nbconvert_exporter": "python",
      "pygments_lexer": "ipython3",
      "version": "3.11.8"
    }
  },
  "nbformat": 4,
  "nbformat_minor": 0
}
