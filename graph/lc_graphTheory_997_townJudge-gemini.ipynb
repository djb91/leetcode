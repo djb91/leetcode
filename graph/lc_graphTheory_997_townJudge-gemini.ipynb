{
 "cells": [
  {
   "cell_type": "markdown",
   "metadata": {},
   "source": [
    "# Leetcode 997: Find the Town Judge\n",
    "\n",
    "## Background\n",
    "LeetCode has a [curated library of 45 graph problems](https://leetcode.com/studyplan/graph-theory/) that cover eight graph topics including `graph theory`, `Dijkstra's (pathfinding)`, and `traversals` among others. \n",
    "\n",
    "This is my first notebook in a series where I will dig into these problems and go beyond just the code to explore the theory and practical applications as well. I will use Google Gemini as a learning and development assistant.\n",
    "\n",
    "## Problem\n",
    "In this notebook we will analyze [LeetCode 997: Find the Town Judge](https://leetcode.com/problems/find-the-town-judge/description/?envType=study-plan-v2&envId=graph-theory). \n",
    "\n",
    " This problem is classified by LeetCode as:\n",
    "* Topic: Graph Theory\n",
    "* Difficulty: Easy\n",
    "* Tags: Graph, Array, Hash Table\n",
    "\n",
    "In addition to developing solution code, we will use Google Gemini to help us:\n",
    "* Understand the problem, including the graph theory concepts involved \n",
    "* Visualize the data in a graph-native way\n",
    "* Develop an approach to solve the problem\n",
    "* Develop one or more code solutions\n",
    "* Incorporate unit tests with additional data \n"
   ]
  },
  {
   "cell_type": "markdown",
   "metadata": {},
   "source": [
    "## Instantiate Gemini using the Gemini API\n",
    "While we could use an orchestration library like LangChain, Google has done a very good job with the [Gemini API](https://ai.google.dev/gemini-api/docs/api-overview). Anecdotally, I have also seen several customers moving away from open sorce orchestration layers like LangChain for a variety of reasons. \n",
    "\n",
    "There is no right or wrong answer here, but I will use the Gemini API in this notebook as a learning exercise. "
   ]
  },
  {
   "cell_type": "code",
   "execution_count": 6,
   "metadata": {},
   "outputs": [],
   "source": [
    "# !pip install python-dotenv --upgrade --quiet\n",
    "from dotenv import load_dotenv\n",
    "import os\n",
    "\n",
    "# !pip install tqdm --upgrade --quiet\n",
    "import tqdm as notebook_tqdm\n",
    "\n",
    "# !pip install -U -q google.generativeai\n",
    "import google.generativeai as genai"
   ]
  },
  {
   "cell_type": "code",
   "execution_count": 7,
   "metadata": {},
   "outputs": [],
   "source": [
    "# read API key from local .env \n",
    "load_dotenv()\n",
    "if \"GOOGLE_API_KEY\" not in os.environ:\n",
    "    os.environ[\"GOOGLE_API_KEY\"] = os.getenv('GOOGLE_API_KEY')"
   ]
  },
  {
   "cell_type": "code",
   "execution_count": 8,
   "metadata": {},
   "outputs": [],
   "source": [
    "# # instantiate the LLM \n",
    "genai.configure(api_key=os.environ[\"GOOGLE_API_KEY\"])\n",
    "model = genai.GenerativeModel('gemini-1.5-pro-latest')\n"
   ]
  },
  {
   "cell_type": "code",
   "execution_count": 9,
   "metadata": {},
   "outputs": [],
   "source": [
    "# to print markdown code \n",
    "from IPython.display import display, Markdown\n",
    "\n",
    "def print_md(string):\n",
    "    display(Markdown(string))"
   ]
  },
  {
   "cell_type": "code",
   "execution_count": 13,
   "metadata": {},
   "outputs": [
    {
     "data": {
      "text/markdown": [
       "## Graph Theory: A Data Scientist's Powerful Tool\n",
       "\n",
       "Graph theory is a branch of mathematics that studies **relationships** between objects. These objects, called **nodes** or **vertices**, are connected by **edges** which represent the relationships between them. Think of it like a social network, where people are nodes and friendships are edges.\n",
       "\n",
       "**Why is it important for data science?**\n",
       "\n",
       "*   **Modeling complex relationships:**  Real-world data often involves intricate connections, like social networks, recommendation systems, fraud detection, and protein interactions. Graph theory provides the tools to represent and analyze these relationships effectively. \n",
       "*   **Powerful algorithms:**  Algorithms like PageRank (used by Google Search) and community detection help analyze graphs to uncover hidden patterns, identify influential nodes, and make predictions.\n",
       "*   **Visualization:**  Graphs offer a clear visual representation of complex data, making it easier to understand and communicate insights.\n",
       "\n",
       "**Examples of graph theory in data science:**\n",
       "\n",
       "*   **Recommendation systems:**  Connecting users and products based on preferences and purchase history.\n",
       "*   **Fraud detection:**  Identifying suspicious patterns of transactions between accounts.\n",
       "*   **Social network analysis:**  Understanding influence, community structures, and information diffusion.\n",
       "*   **Biological networks:**  Analyzing interactions between genes or proteins to understand biological processes.\n",
       "\n",
       "**By understanding graph theory, you gain a valuable tool for modeling, analyzing, and visualizing complex relationships in your data, opening doors to new insights and powerful applications.** \n"
      ],
      "text/plain": [
       "<IPython.core.display.Markdown object>"
      ]
     },
     "metadata": {},
     "output_type": "display_data"
    }
   ],
   "source": [
    "# test model with a simple prompt\n",
    "test_prompt = ''' \n",
    "What is graph theory and why is it important for me to know\n",
    "as a data scientist? Provide a concise summary.\n",
    "'''\n",
    "\n",
    "test_response = model.generate_content(test_prompt)\n",
    "print_md(test_response.text)"
   ]
  },
  {
   "cell_type": "markdown",
   "metadata": {},
   "source": [
    "## LeetCode Problem Overview\n",
    "First we will ask Gemini to provide an overview of LeetCode 997: Find the Town Judge, but with a focus on identifying and explaining the graph theory concepts involved. "
   ]
  },
  {
   "cell_type": "code",
   "execution_count": 33,
   "metadata": {},
   "outputs": [],
   "source": [
    "# instantiate Gemini for multi-turn chat with an empty history\n",
    "chat = model.start_chat(history=[])"
   ]
  },
  {
   "cell_type": "code",
   "execution_count": 34,
   "metadata": {},
   "outputs": [
    {
     "data": {
      "text/markdown": [
       "## LeetCode Problem 997: Find the Town Judge - An Overview\n",
       "\n",
       "This problem presents a scenario within a town of *n* people (numbered 1 to *n*) where the town judge is someone trusted by everyone and who trusts nobody. You are given an array `trust` containing information about who trusts whom. Each element in `trust` is a pair `[a, b]` signifying that person *a* trusts person *b*. The task is to identify the town judge based on this information or determine that no judge exists.\n",
       "\n",
       "## Domain Classification: Trust Networks and Social Structures \n",
       "\n",
       "This problem falls under the domain of **trust networks** which are a type of social structure represented as a directed graph. Nodes represent individuals and directed edges represent trust relationships between them. Trust networks are relevant in various fields:\n",
       "\n",
       "* **Social Sciences:** Analyzing relationships and information flow in communities.\n",
       "* **Recommendation Systems:** Building trust-based recommendations for products or services. \n",
       "* **Security and Fraud Detection:** Identifying suspicious activities based on anomalous trust patterns. \n",
       "\n",
       "## Graph Theory Concepts in Problem 997:\n",
       "\n",
       "Several key graph theory concepts are relevant to understanding and solving this problem:\n",
       "\n",
       "**1. Directed Graphs:**\n",
       "\n",
       "* A directed graph is a set of nodes (vertices) connected by directed edges (arcs). The direction of an edge indicates the relationship between two nodes. In problem 997, the nodes represent people in the town, and a directed edge from *a* to *b* signifies that *a* trusts *b*.\n",
       "\n",
       "**2. In-degree and Out-degree:**\n",
       "\n",
       "* The in-degree of a node is the number of edges directed towards it. In this context, it represents the number of people who trust a specific person.\n",
       "* The out-degree of a node is the number of edges directed outwards from it. Here, it signifies the number of people a specific person trusts. \n",
       "* The town judge, by definition, should have an in-degree of *n-1* (trusted by everyone except themself) and an out-degree of 0 (trusts nobody).\n",
       "\n",
       "**3. Source and Sink Nodes:**\n",
       "\n",
       "* A source node is a node with an out-degree greater than 0 and an in-degree of 0. In this problem, source nodes represent people who trust others but are not trusted by anyone.\n",
       "* A sink node is a node with an in-degree greater than 0 and an out-degree of 0. The town judge, if it exists, would be a sink node.\n",
       "\n",
       "**Practical Applications of these Concepts:**\n",
       "\n",
       "* **Social Network Analysis:** Identifying influential individuals or communities within a network based on their in-degree and out-degree.\n",
       "* **Web Search Algorithms:** Ranking web pages based on the number of incoming links (in-degree), which can indicate the page's authority and relevance.\n",
       "* **Epidemiology:** Modeling the spread of diseases through contact networks, where the direction of edges represents the potential for disease transmission.\n",
       "\n",
       "Understanding these graph theory concepts is crucial for efficiently analyzing the trust relationships in the town and identifying the judge, if one exists. \n"
      ],
      "text/plain": [
       "<IPython.core.display.Markdown object>"
      ]
     },
     "metadata": {},
     "output_type": "display_data"
    }
   ],
   "source": [
    "problem_prompt = '''\n",
    "You are a helpful assistant who is an expert in graph theory, graph algorithms and \n",
    "LeetCode problems. \n",
    "\n",
    "First, provide an overview of LeetCode problem 997: Find the Town Judge.\n",
    "\n",
    "Next, classify the domain of this problem (e.g., social network, recommendation system, etc.)\n",
    "and provide an explanation. \n",
    "\n",
    "Finally, identify and describe each graph theory concept the problem and solution address.\n",
    "For each graph theory concept, provide a detailed explanation of that concept and how \n",
    "it relates to this problem. Describe the practical applications of these graph theory\n",
    "concepts. \n",
    "\n",
    "Do not provide a solution to the problem at this time. We will do that later.\n",
    "'''\n",
    "\n",
    "problem_response = chat.send_message(problem_prompt)\n",
    "\n",
    "print_md(problem_response.text)"
   ]
  },
  {
   "cell_type": "markdown",
   "metadata": {},
   "source": [
    "## Data Set"
   ]
  },
  {
   "cell_type": "code",
   "execution_count": 36,
   "metadata": {},
   "outputs": [
    {
     "data": {
      "text/markdown": [
       "## Sample Data Set for Problem 997:\n",
       "\n",
       "```python\n",
       "n = 7  # Number of people in the town\n",
       "trust = [[1, 4], [2, 4], [3, 4], [5, 4], [6, 4], [7, 4], [5, 7], [6, 7]]\n",
       "```\n",
       "\n",
       "**Explanation of Variables:**\n",
       "\n",
       "* `n`: This variable represents the total number of people in the town, numbered from 1 to *n*. In this case, there are 7 people.\n",
       "* `trust`: This is a list of pairs, where each pair `[a, b]` indicates that person *a* trusts person *b*.\n",
       "\n",
       "**Interpretation of the Data Set:**\n",
       "\n",
       "* Person 1, 2, 3, 5, and 6 trust person 4.\n",
       "* Person 5 and 6 also trust person 7.\n",
       "\n",
       "**Solution: The Town Judge is Person 4**\n",
       "\n",
       "* Person 4 is trusted by everyone else (persons 1, 2, 3, 5, and 6) and trusts nobody, fulfilling the conditions for being the town judge.\n",
       "\n",
       "**Verification of Criteria:**\n",
       "\n",
       "1. **The town judge trusts nobody:** Person 4 has no outgoing trust relationships in the `trust` list.\n",
       "2. **Everybody (except for the town judge) trusts the town judge:** All other people (1, 2, 3, 5, and 6) have trust relationships directed towards person 4.\n",
       "3. **There is exactly one person that satisfies properties 1 and 2:** No other person in the town meets both conditions. \n",
       "4. **Every person must have at least one trust relationship in the array of trust relationships:** Each person in the town appears at least once in the `trust` list, indicating they either trust someone or are trusted by someone. \n"
      ],
      "text/plain": [
       "<IPython.core.display.Markdown object>"
      ]
     },
     "metadata": {},
     "output_type": "display_data"
    }
   ],
   "source": [
    "data_prompt = '''\n",
    "Now I want you to generate an accurate data set that \n",
    "I can use to understand and practice solving the problem.\n",
    "\n",
    "Return the data and variables that I will need along with \n",
    "and explanation of both, in the context of the problem. \n",
    "\n",
    "Include the accurate solution for the generated data set as well.\n",
    "\n",
    "Make sure the data set has a town judge and includes five to ten people.\n",
    "\n",
    "The data set must also meet the following criteria from the problem:\n",
    "1. The town judge trusts nobody.\n",
    "2. Everybody (except for the town judge) trusts the town judge.\n",
    "3. There is exactly one person that satisfies properties 1 and 2.\n",
    "4. Every person must have at least one trust relationsip in the array\n",
    "of trust relationships.\n",
    "'''\n",
    "\n",
    "data_response = chat.send_message(data_prompt)\n",
    "\n",
    "print_md(data_response.text)"
   ]
  },
  {
   "cell_type": "code",
   "execution_count": 37,
   "metadata": {},
   "outputs": [],
   "source": [
    "# extract variable, data, and solution \n",
    "n = 7  # Number of people in the town\n",
    "trust = [[1, 4], [2, 4], [3, 4], [5, 4], [6, 4], [7, 4], [5, 7], [6, 7]]\n",
    "judge = 4"
   ]
  },
  {
   "cell_type": "markdown",
   "metadata": {},
   "source": [
    "## Data Visualization"
   ]
  },
  {
   "cell_type": "code",
   "execution_count": 38,
   "metadata": {},
   "outputs": [
    {
     "data": {
      "text/markdown": [
       "## Visualizing the Trust Network with NetworkX\n",
       "\n",
       "```python\n",
       "import networkx as nx\n",
       "import matplotlib.pyplot as plt\n",
       "\n",
       "# Sample Data (Use your own data here)\n",
       "n = 7\n",
       "trust = [[1, 4], [2, 4], [3, 4], [5, 4], [6, 4], [5, 7], [6, 7]]\n",
       "\n",
       "# Create a directed graph\n",
       "G = nx.DiGraph()\n",
       "G.add_nodes_from(range(1, n + 1))  # Add nodes for each person\n",
       "G.add_edges_from(trust)  # Add trust relationships as edges\n",
       "\n",
       "# Identify the town judge (assuming you have already computed it)\n",
       "town_judge = 4 \n",
       "\n",
       "# Node positions for better visualization\n",
       "pos = nx.circular_layout(G)\n",
       "\n",
       "# Highlight the town judge node\n",
       "node_colors = ['lightblue' if node == town_judge else 'pink' for node in G.nodes()]\n",
       "\n",
       "# Draw the graph\n",
       "nx.draw(G, pos, with_labels=True, node_color=node_colors, node_size=500)\n",
       "nx.draw_networkx_edge_labels(G, pos, edge_labels={(u, v): d for u, v, d in G.edges(data=True)})\n",
       "plt.title(\"Visualization of Trust Network\")\n",
       "plt.show()\n",
       "```\n",
       "\n",
       "**Explanation:**\n",
       "\n",
       "1. **Import Libraries:** We import `networkx` for graph manipulation and `matplotlib.pyplot` for visualization.\n",
       "2. **Create Graph:** We initialize a directed graph `G` using `nx.DiGraph()`. Then, we add nodes for each person in the town and edges based on the `trust` relationships. \n",
       "3. **Identify Judge Node:**  Replace `town_judge = 4` with your logic to determine the judge.\n",
       "4. **Node Positions:** `nx.circular_layout(G)` arranges nodes in a circular fashion for better visualization.\n",
       "5. **Highlight Judge:** We create a list `node_colors` to assign colors. The judge node will be 'lightblue', and others will be 'pink'.\n",
       "6. **Draw Graph:** \n",
       "    * `nx.draw` function draws the graph with labels, specified node colors and sizes.\n",
       "    * `nx.draw_networkx_edge_labels` adds labels to the edges for clarity.\n",
       "7. **Title and Display:** We set a title for the plot and use `plt.show()` to display the visualization. \n",
       "\n",
       "**Remember to replace the sample data and town judge identification with your actual data and solution.** \n"
      ],
      "text/plain": [
       "<IPython.core.display.Markdown object>"
      ]
     },
     "metadata": {},
     "output_type": "display_data"
    }
   ],
   "source": [
    "dataViz_prompt = '''\n",
    "I want you to help me generate Python code to visualize the \n",
    "trust data set as a directed graph in a Jupyter notebook.\n",
    "\n",
    "Include formatting so that the town judge is a different color in the graph\n",
    "and the overall visualization is visually appealing. Also use the common syntax \n",
    "of G to represent the Network X graph object.\n",
    "'''\n",
    "\n",
    "dataViz_response = chat.send_message(dataViz_prompt)\n",
    "\n",
    "print_md(dataViz_response.text)"
   ]
  },
  {
   "cell_type": "code",
   "execution_count": 39,
   "metadata": {},
   "outputs": [],
   "source": [
    "# !pip install networkx --upgrade --quiet\n",
    "# !pip install matplotlib --upgrade --quiet\n",
    "\n",
    "import networkx as nx\n",
    "import matplotlib.pyplot as plt"
   ]
  },
  {
   "cell_type": "code",
   "execution_count": 45,
   "metadata": {},
   "outputs": [
    {
     "data": {
      "image/png": "[encoded data removed]",
      "text/plain": [
       "<Figure size 640x480 with 1 Axes>"
      ]
     },
     "metadata": {},
     "output_type": "display_data"
    }
   ],
   "source": [
    "# Create a directed graph\n",
    "G = nx.DiGraph()\n",
    "G.add_nodes_from(range(1, n + 1))  # Add nodes for each person\n",
    "G.add_edges_from(trust)  # Add trust relationships as edges\n",
    "\n",
    "\n",
    "# Node positions for better visualization\n",
    "pos = nx.circular_layout(G)\n",
    "\n",
    "# Highlight the town judge node\n",
    "node_colors = ['red' if node == judge else 'lightblue' for node in G.nodes()]\n",
    "\n",
    "# Draw the graph\n",
    "nx.draw(G, pos, with_labels=True, node_color=node_colors, node_size=500)\n",
    "\n",
    "# Set title and display the plot\n",
    "plt.title(\"Trust Network from LeetCode 997: Find the Town Judge with Judge in Red\",\n",
    "          fontweight='bold')\n",
    "plt.show()"
   ]
  },
  {
   "cell_type": "code",
   "execution_count": 46,
   "metadata": {},
   "outputs": [
    {
     "data": {
      "text/plain": [
       "<Figure size 640x480 with 0 Axes>"
      ]
     },
     "metadata": {},
     "output_type": "display_data"
    }
   ],
   "source": [
    "# save image locally \n",
    "plt.savefig('leetcode997_trust_network.png')"
   ]
  },
  {
   "cell_type": "markdown",
   "metadata": {},
   "source": [
    "## Solution Code"
   ]
  },
  {
   "cell_type": "code",
   "execution_count": 47,
   "metadata": {},
   "outputs": [
    {
     "data": {
      "text/markdown": [
       "## Conceptual Approaches to Finding the Town Judge:\n",
       "\n",
       "Here are two main conceptual approaches to solve Problem 997, along with their complexity analysis:\n",
       "\n",
       "**Approach 1: Counting Trust Relationships (In-degrees and Out-degrees)**\n",
       "\n",
       "1. **Initialize Data Structures:** Create two dictionaries or lists to store the in-degree and out-degree for each person in the town. Initialize all values to 0.\n",
       "2. **Process Trust Relationships:** Iterate through the `trust` list. For each pair `[a, b]`, increment the out-degree of person *a* and the in-degree of person *b*.\n",
       "3. **Identify the Judge:** Iterate through the people in the town (from 1 to *n*). For each person, check if their in-degree is *n-1* (trusted by everyone except themselves) and their out-degree is 0 (trusts nobody). If such a person is found, they are the judge. Otherwise, no judge exists. \n",
       "\n",
       "**Complexity Analysis:**\n",
       "\n",
       "* **Time Complexity:** O(E + V), where E is the number of edges (trust relationships) and V is the number of vertices (people) in the graph. Processing the trust relationships and iterating through the people both take linear time.\n",
       "* **Space Complexity:** O(V) to store the in-degree and out-degree for each person.\n",
       "\n",
       "**Approach 2: Graph Traversal (Depth-First Search or Breadth-First Search)**\n",
       "\n",
       "1. **Construct the Graph:** Build a directed graph from the `trust` information, representing people as nodes and trust relationships as edges.\n",
       "2. **Choose a Starting Node:** Select an arbitrary person as the starting node.\n",
       "3. **Perform Graph Traversal:** Use either Depth-First Search (DFS) or Breadth-First Search (BFS) to explore the graph.\n",
       "4. **Check Judge Conditions:** For each visited node, check if it meets the conditions of the town judge (in-degree = *n-1*, out-degree = 0). If found, return the node as the judge.\n",
       "5. **No Judge Found:** If the traversal completes without finding a suitable node, there is no judge in the town. \n",
       "\n",
       "**Complexity Analysis:**\n",
       "\n",
       "* **Time Complexity:** O(V + E) for both DFS and BFS, as they visit each node and edge at most once in the worst case.\n",
       "* **Space Complexity:** \n",
       "    * **DFS:** O(V) in the worst case for the recursion stack, where V is the number of people.\n",
       "    * **BFS:** O(V) for the queue to store nodes to visit.\n",
       "\n",
       "\n",
       "## Evaluation and Comparison:\n",
       "\n",
       "Both approaches have the same time complexity of O(V + E). However, the first approach (counting trust relationships) is generally more efficient in practice due to its simpler implementation and lower constant factors. It avoids the overhead of building and traversing a graph explicitly.\n",
       "\n",
       "The choice between the two approaches might depend on the specific problem context and whether you need to perform additional graph analysis beyond finding the judge. If you need to analyze other aspects of the trust network, building a graph using NetworkX could be beneficial. \n"
      ],
      "text/plain": [
       "<IPython.core.display.Markdown object>"
      ]
     },
     "metadata": {},
     "output_type": "display_data"
    }
   ],
   "source": [
    "solution_prompt = '''\n",
    "Now I want to begin developing a solution the problem.\n",
    "As a helpful coding assistant, explain the conceptual approaches. \n",
    "Include an analysis of complexity and runtime for each approach. \n",
    "Do not provide code yet, only the conceptual steps and evaluation.\n",
    "'''\n",
    "\n",
    "solution_response = chat.send_message(solution_prompt)\n",
    "print_md(solution_response.text)\n"
   ]
  },
  {
   "cell_type": "code",
   "execution_count": 48,
   "metadata": {},
   "outputs": [
    {
     "data": {
      "text/markdown": [
       "## Implementing Approach 1: Counting Trust Relationships\n",
       "\n",
       "Here's a step-by-step breakdown of the Python code implementation using lists to track in-degrees and out-degrees:\n",
       "\n",
       "```python\n",
       "class Solution:\n",
       "    def findJudge(self, n: int, trust: List[List[int]]) -> int:\n",
       "        # 1. Initialize in-degrees and out-degrees\n",
       "        in_degrees = [0] * (n + 1)  # Index 0 will not be used\n",
       "        out_degrees = [0] * (n + 1) \n",
       "\n",
       "        # 2. Process trust relationships\n",
       "        for a, b in trust:\n",
       "            out_degrees[a] += 1  # Person a trusts someone\n",
       "            in_degrees[b] += 1   # Person b is trusted by a\n",
       "\n",
       "        # 3. Identify the judge\n",
       "        for i in range(1, n + 1):\n",
       "            if in_degrees[i] == n - 1 and out_degrees[i] == 0:\n",
       "                return i  # Found the judge!\n",
       "\n",
       "        return -1  # No judge found\n",
       "```\n",
       "\n",
       "**Explanation:**\n",
       "\n",
       "1. **Initialize Data Structures:**\n",
       "    * We create two lists, `in_degrees` and `out_degrees`, both of size `n + 1`. \n",
       "    * The index 0 is not used (since people are numbered from 1 to *n*), so it simplifies indexing.\n",
       "    * All values are initialized to 0, representing that initially, nobody trusts or is trusted by anyone. \n",
       "\n",
       "2. **Process Trust Relationships:**\n",
       "    * We iterate through each pair `[a, b]` in the `trust` list.\n",
       "    * For each pair:\n",
       "        * We increment `out_degrees[a]` because person *a* trusts someone (*b*).\n",
       "        * We increment `in_degrees[b]` because person *b* is trusted by someone (*a*).\n",
       "\n",
       "3. **Identify the Judge:**\n",
       "    * We iterate through each person `i` (from 1 to *n*) in the town.\n",
       "    * For each person, we check if they meet the conditions of the judge:\n",
       "        * If `in_degrees[i]` is equal to `n - 1` (meaning everyone except themselves trusts them) \n",
       "        * AND `out_degrees[i]` is equal to 0 (meaning they trust nobody), then we have found the judge and return their number `i`. \n",
       "    * If the loop completes without finding a suitable judge, we return -1 to indicate that no judge exists. \n"
      ],
      "text/plain": [
       "<IPython.core.display.Markdown object>"
      ]
     },
     "metadata": {},
     "output_type": "display_data"
    }
   ],
   "source": [
    "solution_prompt = '''\n",
    "Let's walk through solving this problem by using a list\n",
    "to track in-degrees and out-degrees. Walk me through the \n",
    "implementation steps using Python. I want to make sure I \n",
    "understand the code implementation for each step.\n",
    "Use the variables specified in the Leetcode problem itself.\n",
    "'''\n",
    "\n",
    "solution_response = chat.send_message(solution_prompt)\n",
    "print_md(solution_response.text)"
   ]
  },
  {
   "cell_type": "code",
   "execution_count": 52,
   "metadata": {},
   "outputs": [],
   "source": [
    "# import typing for type hints\n",
    "from typing import List\n",
    "\n",
    "class Solution:\n",
    "    def findJudge(self, n: int, trust: List[List[int]]) -> int:\n",
    "        '''\n",
    "        n: int - number of people in the town\n",
    "        trust: List[List[int]] - list of trust relationships\n",
    "        '''\n",
    "\n",
    "        # 1. Initialize in-degrees and out-degrees\n",
    "        in_degrees = [0] * (n + 1)  # Index 0 will not be used\n",
    "        out_degrees = [0] * (n + 1) \n",
    "\n",
    "        # 2. Process trust relationships\n",
    "        for a, b in trust:\n",
    "            out_degrees[a] += 1  # Person a trusts someone\n",
    "            in_degrees[b] += 1   # Person b is trusted by a\n",
    "\n",
    "        # 3. Identify the judge\n",
    "        for i in range(1, n + 1):\n",
    "            if in_degrees[i] == n - 1 and out_degrees[i] == 0:\n",
    "                return i  # Found the judge!\n",
    "\n",
    "        return -1  # No judge found"
   ]
  },
  {
   "cell_type": "markdown",
   "metadata": {},
   "source": [
    "## Test Solution on Initial Data"
   ]
  },
  {
   "cell_type": "code",
   "execution_count": 53,
   "metadata": {},
   "outputs": [
    {
     "name": "stdout",
     "output_type": "stream",
     "text": [
      "Correct answer: 4\n",
      "Function response: 4\n"
     ]
    }
   ],
   "source": [
    "# instantiate solution\n",
    "sol = Solution()\n",
    "\n",
    "# run function \n",
    "answer = sol.findJudge(n, trust)\n",
    "\n",
    "# confirm result \n",
    "print('Correct answer:', judge)\n",
    "print('Function response:', answer)\n",
    "assert judge == answer"
   ]
  },
  {
   "cell_type": "markdown",
   "metadata": {},
   "source": [
    "## Create Unit Tests\n",
    "Next we will use Gemini to help us develop some unit tests for the problem. Behind the scenes, this is how LeetCode tests your code when you submit a solution. It is a valuable skill to have and will help ensure our solution will satisfy the requirements. "
   ]
  },
  {
   "cell_type": "code",
   "execution_count": 54,
   "metadata": {},
   "outputs": [],
   "source": [
    "unit_test_prompt = '''\n",
    "Now I want to test the function you helped me write.\n",
    "Let's generate data and a unit test to confirm the function works as expected\n",
    "across a variety of situations.\n",
    "Create three tests and explain what each of them addresses.\n",
    "Return the necessary variables, data, and expected results for each\n",
    "along with an explanation.\n",
    "'''\n",
    "\n",
    "unit_test_response = chat.send_message(unit_test_prompt)"
   ]
  },
  {
   "cell_type": "code",
   "execution_count": 55,
   "metadata": {},
   "outputs": [
    {
     "data": {
      "text/markdown": [
       "## Unit Tests for `findJudge` Function\n",
       "\n",
       "Here are three unit tests to cover different scenarios, along with explanations:\n",
       "\n",
       "```python\n",
       "import unittest\n",
       "\n",
       "class TestFindJudge(unittest.TestCase):\n",
       "\n",
       "    def test_judge_exists(self):\n",
       "        n = 4\n",
       "        trust = [[1, 3], [2, 3], [4, 3]]\n",
       "        expected_judge = 3\n",
       "        self.assertEqual(Solution().findJudge(n, trust), expected_judge)\n",
       "\n",
       "    def test_no_judge(self):\n",
       "        n = 3\n",
       "        trust = [[1, 2], [2, 3]]\n",
       "        expected_judge = -1\n",
       "        self.assertEqual(Solution().findJudge(n, trust), expected_judge)\n",
       "\n",
       "    def test_self_trust(self):\n",
       "        n = 3\n",
       "        trust = [[1, 2], [2, 3], [3, 3]]  # Person 3 trusts themselves\n",
       "        expected_judge = -1\n",
       "        self.assertEqual(Solution().findJudge(n, trust), expected_judge)\n",
       "```\n",
       "\n",
       "**Explanation of Tests:**\n",
       "\n",
       "1. **`test_judge_exists`:**\n",
       "    * This test case checks a scenario where a valid judge exists (person 3) who is trusted by everyone else and trusts nobody.\n",
       "    * The expected output is 3, the number of the judge.\n",
       "\n",
       "2. **`test_no_judge`:** \n",
       "    * This test case checks a scenario where there is no judge. \n",
       "    * A cycle of trust exists (1 trusts 2, 2 trusts 3), so no one meets the conditions of the judge. \n",
       "    * The expected output is -1, indicating no judge.\n",
       "\n",
       "3. **`test_self_trust`:**\n",
       "    * This test case checks a scenario where one person (person 3) trusts themselves, violating the judge's condition of trusting nobody. \n",
       "    * Even though person 3 is trusted by everyone else, they are not a valid judge. \n",
       "    * The expected output is -1, indicating no judge.\n",
       "\n",
       "\n",
       "**Running the Tests:**\n",
       "\n",
       "You can run these tests using a unit testing framework like `unittest`. Make sure the `Solution` class with the `findJudge` function is defined in the same file or imported correctly. \n"
      ],
      "text/plain": [
       "<IPython.core.display.Markdown object>"
      ]
     },
     "metadata": {},
     "output_type": "display_data"
    }
   ],
   "source": [
    "print_md(unit_test_response.text)"
   ]
  },
  {
   "cell_type": "code",
   "execution_count": 56,
   "metadata": {},
   "outputs": [],
   "source": [
    "import unittest\n",
    "\n",
    "class TestFindJudge(unittest.TestCase):\n",
    "\n",
    "    def test_judge_exists(self):\n",
    "        n = 4\n",
    "        trust = [[1, 3], [2, 3], [4, 3]]\n",
    "        expected_judge = 3\n",
    "        self.assertEqual(Solution().findJudge(n, trust), expected_judge)\n",
    "\n",
    "    def test_no_judge(self):\n",
    "        n = 3\n",
    "        trust = [[1, 2], [2, 3]]\n",
    "        expected_judge = -1\n",
    "        self.assertEqual(Solution().findJudge(n, trust), expected_judge)\n",
    "\n",
    "    def test_self_trust(self):\n",
    "        n = 3\n",
    "        trust = [[1, 2], [2, 3], [3, 3]]  # Person 3 trusts themselves\n",
    "        expected_judge = -1\n",
    "        self.assertEqual(Solution().findJudge(n, trust), expected_judge)"
   ]
  },
  {
   "cell_type": "code",
   "execution_count": 57,
   "metadata": {},
   "outputs": [
    {
     "name": "stderr",
     "output_type": "stream",
     "text": [
      "...\n",
      "----------------------------------------------------------------------\n",
      "Ran 3 tests in 0.003s\n",
      "\n",
      "OK\n"
     ]
    },
    {
     "data": {
      "text/plain": [
       "<unittest.main.TestProgram at 0x11ffcfbd0>"
      ]
     },
     "execution_count": 57,
     "metadata": {},
     "output_type": "execute_result"
    }
   ],
   "source": [
    "# run TestFindJudge unit tests \n",
    "unittest.main(argv=[''], exit=False)"
   ]
  },
  {
   "cell_type": "markdown",
   "metadata": {},
   "source": [
    "# Conclusion\n",
    "\n",
    "In this notebook we walked through the LeetCode 997: Find the Town Judge problem. We used Google Gemini to help us understand the problem, develop a solution, and create unit tests. \n",
    "\n",
    "While Google Gemini helped us, it also enabled us to dig deeper into the problem and explore the graph theory concepts involved. Additionally, we created visualizaitons and unit tests which are not typically part of a LeetCode solution, yet valuable on their own.\n",
    "\n",
    "I hope you found this as useful of a walkthrough as I did. I look forward to continuing this series and exploring more graph problems in the future."
   ]
  }
 ],
 "metadata": {
  "kernelspec": {
   "display_name": "torch",
   "language": "python",
   "name": "python3"
  },
  "language_info": {
   "codemirror_mode": {
    "name": "ipython",
    "version": 3
   },
   "file_extension": ".py",
   "mimetype": "text/x-python",
   "name": "python",
   "nbconvert_exporter": "python",
   "pygments_lexer": "ipython3",
   "version": "3.11.8"
  }
 },
 "nbformat": 4,
 "nbformat_minor": 2
}
