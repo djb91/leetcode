{
  "cells": [
    {
      "cell_type": "markdown",
      "metadata": {
        "id": "view-in-github",
        "colab_type": "text"
      },
      "source": [
        "<a href=\"https://colab.research.google.com/github/djb91/leetcode/blob/main/graph/lc_traversal_323_connectedComponents_gemini.ipynb\" target=\"_parent\"><img src=\"https://colab.research.google.com/assets/colab-badge.svg\" alt=\"Open In Colab\"/></a>"
      ]
    },
    {
      "cell_type": "markdown",
      "metadata": {
        "id": "iNEUZXMNqw-8"
      },
      "source": [
        "# LeetCode 323. Number of Connected Components in an Undirected Graph\n",
        "\n",
        "## Background\n",
        "LeetCode has a [curated library of 45 graph problems](https://leetcode.com/studyplan/graph-theory/) that cover eight graph topics including `graph theory`, `Dijkstra's (pathfinding)`, and `traversals` among others. There are also essential graph problems throughout other popular lists.\n",
        "\n",
        "## Problem\n",
        "In this notebook we will analyze [Leetcode 323. Number of Connected Components in an Undirected Graph](https://leetcode.com/problems/number-of-connected-components-in-an-undirected-graph/description/).\n",
        "\n",
        " This problem is classified by LeetCode as:\n",
        "* Topic: Graph\n",
        "* Difficulty: Medium\n",
        "* Tags: DFS, BFS, and Union Find\n",
        "\n",
        "In addition to developing solution code, we will use Google Gemini to help us understand the problem and go beyond the code.\n",
        "\n",
        "\n",
        "\n",
        "**[Follow me on LinkedIn](https://www.linkedin.com/in/danieljbukowski/) for daily content about graphs, data science, and GenAI**\n"
      ]
    },
    {
      "cell_type": "markdown",
      "metadata": {
        "id": "ugOIAHUtqw-9"
      },
      "source": [
        "## Instantiate Gemini using the Gemini API"
      ]
    },
    {
      "cell_type": "code",
      "execution_count": 1,
      "metadata": {
        "id": "WcAIxQCfqw--"
      },
      "outputs": [],
      "source": [
        "import os\n",
        "import tqdm as notebook_tqdm\n",
        "import google.generativeai as genai"
      ]
    },
    {
      "cell_type": "code",
      "execution_count": 2,
      "metadata": {
        "id": "asHGAucAqw-_"
      },
      "outputs": [],
      "source": [
        "# import Gemini API and API key (Colab)\n",
        "from google.colab import userdata\n",
        "os.environ[\"GOOGLE_API_KEY\"] = userdata.get('GOOGLE_API_KEY')"
      ]
    },
    {
      "cell_type": "code",
      "execution_count": 3,
      "metadata": {
        "id": "vP1CYDtbqw-_"
      },
      "outputs": [],
      "source": [
        "# # instantiate the LLM\n",
        "genai.configure(api_key=os.environ[\"GOOGLE_API_KEY\"])\n",
        "model = genai.GenerativeModel('gemini-1.5-pro-latest')\n"
      ]
    },
    {
      "cell_type": "code",
      "execution_count": 4,
      "metadata": {
        "id": "zGfelVYXqw-_"
      },
      "outputs": [],
      "source": [
        "# to print markdown code\n",
        "from IPython.display import display, Markdown\n",
        "\n",
        "def print_md(string):\n",
        "    display(Markdown(string))"
      ]
    },
    {
      "cell_type": "code",
      "execution_count": 5,
      "metadata": {
        "colab": {
          "base_uri": "https://localhost:8080/",
          "height": 386
        },
        "id": "kEEMNm9yqw_A",
        "outputId": "1f668aa4-8e09-49e1-a24d-ac525abbee30"
      },
      "outputs": [
        {
          "output_type": "display_data",
          "data": {
            "text/plain": [
              "<IPython.core.display.Markdown object>"
            ],
            "text/markdown": "## Graph Theory for Data Scientists: A Concise Explanation\n\n**What is it?**\n\nGraph theory is the mathematical study of **graphs**, which are structures used to model **relationships** between objects. A graph consists of **vertices** (nodes) connected by **edges** (links). \n\n**Why it matters for data scientists:**\n\n* **Modeling relationships:** Data often involves interconnected entities (users, products, locations, etc.). Graphs naturally represent these relationships, revealing patterns and insights.\n* **Network analysis:** Understand social networks, identify influencers, predict information flow, and optimize communication strategies.\n* **Recommendation systems:**  Suggest relevant products, content, or connections based on user relationships and preferences.\n* **Fraud detection:** Identify suspicious patterns and anomalies in financial transactions, social interactions, or other networks.\n* **Optimization problems:**  Solve routing problems, resource allocation, and process optimization using graph algorithms.\n\n**Examples in data science:**\n\n* **Social network analysis:** Analyzing friendships on Facebook, follower networks on Twitter, or professional connections on LinkedIn.\n* **Recommender systems:** Recommending products on Amazon based on purchase history or suggesting movies on Netflix based on viewing preferences.\n* **Fraud detection:**  Identifying fraudulent credit card transactions based on unusual spending patterns or connections.\n\n**In essence:** Graph theory provides powerful tools and algorithms to analyze relationships within data, leading to valuable insights and solutions across various data science domains. \n"
          },
          "metadata": {}
        }
      ],
      "source": [
        "# test model with a simple prompt\n",
        "test_prompt = '''\n",
        "I am a data scientist. Provide a oncise explanation\n",
        "of what graph theory is and why it is an important\n",
        "topic for data scientists to know.\n",
        "'''\n",
        "\n",
        "test_response = model.generate_content(test_prompt)\n",
        "print_md(test_response.text)"
      ]
    },
    {
      "cell_type": "markdown",
      "metadata": {
        "id": "KemOBhMgqw_A"
      },
      "source": [
        "## LeetCode Problem Overview\n",
        "First we will ask Gemini to provide an overview of [Leetcode 323. Number of Connected Components in an Undirected Graph](https://leetcode.com/problems/number-of-connected-components-in-an-undirected-graph/description/), but with a focus on identifying and explaining the graph theory concepts involved."
      ]
    },
    {
      "cell_type": "code",
      "execution_count": 6,
      "metadata": {
        "id": "4lp0VubMqw_B"
      },
      "outputs": [],
      "source": [
        "# instantiate Gemini for multi-turn chat with an empty history\n",
        "chat = model.start_chat(history=[])"
      ]
    },
    {
      "cell_type": "code",
      "source": [
        "# set problem variable so we can re-use it if necessary\n",
        "lc_problem = 'Leetcode 323. Number of Connected Components in an Undirected Graph.'"
      ],
      "metadata": {
        "id": "ValZP2NxK81n"
      },
      "execution_count": 7,
      "outputs": []
    },
    {
      "cell_type": "code",
      "execution_count": 8,
      "metadata": {
        "colab": {
          "base_uri": "https://localhost:8080/",
          "height": 524
        },
        "id": "3N8M3hPlqw_B",
        "outputId": "56484e24-c52e-4c49-f2a7-f3647ba04a24"
      },
      "outputs": [
        {
          "output_type": "display_data",
          "data": {
            "text/plain": [
              "<IPython.core.display.Markdown object>"
            ],
            "text/markdown": "## LeetCode 323: Number of Connected Components in an Undirected Graph\n\n**Problem Overview:**\n\nYou're given an undirected graph represented by an edge list. This means you're provided with:\n\n*  `n`: The number of nodes (vertices) in the graph, labeled from `0` to `n - 1`.\n*  `edges`: A list of edges, where each edge is represented as a pair `[a, b]`, indicating an undirected edge connecting nodes `a` and `b`.\n\nThe task is to determine the number of connected components in the given undirected graph. \n\n**Recall**:\n\n* A **connected component** in an undirected graph is a subgraph where every pair of nodes is connected by a path, and no other nodes outside the subgraph are connected to any nodes within it.\n\n**Example:**\n\n```\nInput: n = 5, edges = [[0, 1], [1, 2], [3, 4]]\nOutput: 2\nExplanation: \n- Nodes 0, 1, and 2 form one connected component.\n- Nodes 3 and 4 form another connected component. \n```\n\n## Graph Domain Classification\n\nThis problem falls under the **Undirected Graph Traversal** domain. \n\n**Explanation:**\n\n* **Undirected Graph:** The problem explicitly states that the input graph is undirected, meaning edges have no specific direction.\n* **Traversal:**  To count connected components, you need to explore the graph.  Common traversal algorithms like Depth-First Search (DFS) or Breadth-First Search (BFS) can be used to identify all nodes reachable from a starting point, effectively outlining a single connected component. You would repeat the traversal process from unvisited nodes until all nodes are explored. \n"
          },
          "metadata": {}
        }
      ],
      "source": [
        "problem_prompt = f'''\n",
        "You are a helpful assistant who is an expert in graph theory, graph algorithms\n",
        "and solving LeetCode problems.\n",
        "\n",
        "First, provide me with a detailed overview of {lc_problem}.\n",
        "\n",
        "Next, classify the graph domain of this problem and provide an explanation of\n",
        "why you categorized it in this way.\n",
        "\n",
        "Do not provide a solution to the problem at this time. We will do that later.\n",
        "Only return the overview, classification, and explanation.\n",
        "'''\n",
        "\n",
        "problem_response = chat.send_message(problem_prompt)\n",
        "\n",
        "print_md(problem_response.text)"
      ]
    },
    {
      "cell_type": "code",
      "source": [
        "prompt = '''\n",
        "Next, I want you to identify each graph theory concept involved in {lc_problem}.\n",
        "For each graph theory concept you identify,\n",
        "provide a detailed explanation of that concept and how it relates to this problem.\n",
        "Describe the practical applications of these graph theory\n",
        "concepts as well.\n",
        "\n",
        "Do not provide a solution to the problem at this time. We will do that later.\n",
        "Only return the concepts and explanations.\n",
        "'''\n",
        "\n",
        "response = chat.send_message(prompt)\n",
        "\n",
        "print_md(response.text)\n"
      ],
      "metadata": {
        "colab": {
          "base_uri": "https://localhost:8080/",
          "height": 735
        },
        "id": "wJ74QTLbKlHU",
        "outputId": "c0cfc1e9-bdf0-41b3-fa7a-a7349cbe7abd"
      },
      "execution_count": 9,
      "outputs": [
        {
          "output_type": "display_data",
          "data": {
            "text/plain": [
              "<IPython.core.display.Markdown object>"
            ],
            "text/markdown": "Let's delve into the graph theory concepts underpinning LeetCode 323.\n\n## Graph Theory Concepts in LeetCode 323\n\nHere are the key graph theory concepts relevant to this problem:\n\n1. **Undirected Graph:**\n\n   - **Explanation:** An undirected graph is a set of nodes (vertices) connected by edges, where the edges have no specific direction. This means that if node A is connected to node B, you can traverse the edge from A to B or from B to A.\n\n   - **Relevance to Problem:**  The problem statement explicitly mentions an \"undirected graph.\"  This information is crucial as it dictates how you can traverse the graph to find connected components.\n\n   - **Practical Applications:** Undirected graphs model relationships where direction doesn't matter, such as:\n      -  **Social Networks:** Friendships are often mutual.\n      -  **Molecule Structures:** Bonds between atoms don't have inherent direction. \n      -  **Computer Networks:** Connections between devices can be bidirectional.\n\n2. **Connected Component:**\n\n   - **Explanation:**  A connected component within an undirected graph is a subgraph where:\n      - There exists a path between every pair of nodes in the subgraph.\n      - No other nodes outside the subgraph are connected to nodes within it.\n\n   - **Relevance to Problem:** The primary objective of LeetCode 323 is to determine the *number* of these distinct connected components within the given graph. \n\n   - **Practical Applications:** Identifying connected components is essential in:\n      - **Social Network Analysis:** Finding groups of closely connected individuals.\n      - **Image Segmentation:** Dividing an image into distinct regions based on pixel connectivity.\n      - **Network Reliability:** Assessing how many independent paths exist between points in a network.\n\n3. **Graph Traversal (DFS or BFS):**\n\n   - **Explanation:** Graph traversal algorithms are methods for systematically visiting every node in a graph.  Two prominent algorithms are:\n      - **Depth-First Search (DFS):**  Explores a graph by going as \"deep\" as possible along each branch before backtracking.\n      - **Breadth-First Search (BFS):** Explores a graph level by level, visiting all neighbors of a node before moving to the next level.\n\n   - **Relevance to Problem:** To count connected components, you use DFS or BFS to start from an arbitrary node and visit all reachable nodes. Each complete traversal from an unvisited node reveals one connected component.\n\n   - **Practical Applications:**  Graph traversal is fundamental to:\n      - **Finding shortest paths:** In GPS navigation or network routing. \n      - **Web Crawling:**  Exploring interconnected web pages.\n      - **Solving puzzles:** Like mazes or finding solutions in a game tree. \n"
          },
          "metadata": {}
        }
      ]
    },
    {
      "cell_type": "markdown",
      "metadata": {
        "id": "na7JxRoyqw_B"
      },
      "source": [
        "## Data Set\n",
        "In this section we will have the model create at least one new data set we can use to test our solutions."
      ]
    },
    {
      "cell_type": "code",
      "source": [
        "# these are the sample data sets provided in the LC problem\n",
        "sample_data = '''\n",
        "Example 1:\n",
        "Input: n = 5, edges = [[0,1],[1,2],[3,4]]\n",
        "Output: 2\n",
        "\n",
        "Example 2:\n",
        "Input: n = 5, edges = [[0,1],[1,2],[2,3],[3,4]]\n",
        "Output: 1\n",
        "'''"
      ],
      "metadata": {
        "id": "5QfYq6tofoO8"
      },
      "execution_count": 12,
      "outputs": []
    },
    {
      "cell_type": "code",
      "source": [
        "# these are the constraints provided in the problem\n",
        "data_constraints = '''\n",
        "1 <= n <= 2000\n",
        "1 <= edges.length <= 5000\n",
        "edges[i].length == 2\n",
        "0 <= ai <= bi < n\n",
        "ai != bi\n",
        "There are no repeated edges.\n",
        "'''"
      ],
      "metadata": {
        "id": "KgeUaUWQfyG2"
      },
      "execution_count": 13,
      "outputs": []
    },
    {
      "cell_type": "code",
      "execution_count": 14,
      "metadata": {
        "colab": {
          "base_uri": "https://localhost:8080/",
          "height": 580
        },
        "id": "QpbOee9vqw_C",
        "outputId": "74e53930-ff17-42e8-e079-e0d2734f8ceb"
      },
      "outputs": [
        {
          "output_type": "display_data",
          "data": {
            "text/plain": [
              "<IPython.core.display.Markdown object>"
            ],
            "text/markdown": "Here's a generated data set for practicing LeetCode 323:\n\n```python\nn = 10  # Number of nodes\nedges = [[1, 2], [2, 3], [4, 5], [5, 6], [7, 8], [0, 9]]\n```\n\n**Explanation:**\n\n* **`n` (`int`):** Represents the number of nodes in our graph, labeled from `0` to `n-1`. Here, we have 10 nodes.\n* **`edges` (`List[List[int]]`):** A list of pairs, with each pair representing an undirected edge between two nodes. For instance, `[1, 2]` means there's an edge connecting node `1` and node `2`.\n\n**Visualization:**\n\nIt's helpful to visualize this graph:\n\n```\n0---9   1---2---3   4---5---6   7---8\n```\n\nAs you can see, we have 4 distinct connected components:\n\n1. Nodes `0` and `9` are connected.\n2. Nodes `1`, `2`, and `3` form a connected component.\n3. Nodes `4`, `5`, and `6` make up another component. \n4. Nodes `7` and `8` are connected.\n\n**Solution for the Generated Data:**\n\nTherefore, the correct output (number of connected components) for this data set is **4**.\n\n**Data Confirmation:**\n\n* **Uniqueness:** This data set is different from the examples provided in the problem description. \n* **Constraints:**\n   * `1 <= n = 10 <= 2000` (Satisfied)\n   * `1 <= edges.length = 6 <= 5000` (Satisfied)\n   * All edges have a length of 2 (pairs).\n   * Node values are within the range `[0, n-1]`.\n   * There are no self-loops (`ai != bi`).\n   * There are no repeated edges. \n"
          },
          "metadata": {}
        }
      ],
      "source": [
        "data_prompt = f'''\n",
        "I want you to generate an accurate data set that\n",
        "I can use to understand and practice solving {lc_problem}.\n",
        "\n",
        "Return the data and variables that I will need along with\n",
        "and explanation of both, in the context of the problem.\n",
        "\n",
        "Include the accurate solution for the generated data set as well.\n",
        "The data set must guaranteed that a unique solution exists.\n",
        "\n",
        "The following data samples and constraints are provided in the problem description.\n",
        "Use both as guides for generating the data.\n",
        "Samples:\n",
        "{sample_data}\n",
        "\n",
        "Ensure the generated data meets the following constraints:\n",
        "{data_constraints}\n",
        "\n",
        "After you generate sample data, confirm that it does not duplicate the\n",
        "sample data and that it meets the requirements and constraints.\n",
        "'''\n",
        "\n",
        "data_response = chat.send_message(data_prompt)\n",
        "\n",
        "print_md(data_response.text)"
      ]
    },
    {
      "cell_type": "code",
      "execution_count": 15,
      "metadata": {
        "id": "vsEowUHkqw_C"
      },
      "outputs": [],
      "source": [
        "# extract variable, data, and solution\n",
        "n = 10  # Number of nodes\n",
        "edges = [[1, 2], [2, 3], [4, 5], [5, 6], [7, 8], [0, 9]]\n",
        "solution = 4"
      ]
    },
    {
      "cell_type": "markdown",
      "metadata": {
        "id": "xLmAaLaPqw_C"
      },
      "source": [
        "## Data Visualization\n",
        "Data visualization is critical for exploring data, especially graph data. We will use NetworkX to quickly plot our new data."
      ]
    },
    {
      "cell_type": "code",
      "execution_count": 16,
      "metadata": {
        "id": "TPCT19rEqw_C"
      },
      "outputs": [],
      "source": [
        "# !pip install networkx --upgrade --quiet\n",
        "# !pip install matplotlib --upgrade --quiet\n",
        "\n",
        "import networkx as nx\n",
        "import matplotlib.pyplot as plt"
      ]
    },
    {
      "cell_type": "code",
      "execution_count": 17,
      "metadata": {
        "colab": {
          "base_uri": "https://localhost:8080/",
          "height": 521
        },
        "id": "QvfS4wjZqw_C",
        "outputId": "dcf02258-6530-49d8-c577-e23415e26e71"
      },
      "outputs": [
        {
          "output_type": "display_data",
          "data": {
            "text/plain": [
              "<Figure size 600x600 with 1 Axes>"
            ],
            "image/png": "[encoded data removed]"
          },
          "metadata": {}
        }
      ],
      "source": [
        "# Create the graph\n",
        "G = nx.Graph()\n",
        "G.add_nodes_from(range(n))\n",
        "G.add_edges_from(edges)\n",
        "\n",
        "# Visualization\n",
        "plt.figure(figsize=(6, 6))\n",
        "pos = nx.spring_layout(G, k=0.7)\n",
        "nx.draw_networkx(G, pos,\n",
        "                 with_labels=True,\n",
        "                 node_size=500,\n",
        "                 font_size=10,\n",
        "                 edge_color='gray')\n",
        "plt.title(\"Undirected Graph Visualization\")\n",
        "plt.show()"
      ]
    },
    {
      "cell_type": "markdown",
      "metadata": {
        "id": "2-ofJdg6qw_D"
      },
      "source": [
        "## Solution Code"
      ]
    },
    {
      "cell_type": "code",
      "execution_count": 18,
      "metadata": {
        "colab": {
          "base_uri": "https://localhost:8080/",
          "height": 1000
        },
        "id": "z0mqER5zqw_D",
        "outputId": "eecac006-ae17-4a9e-f871-84d13ed81832"
      },
      "outputs": [
        {
          "output_type": "display_data",
          "data": {
            "text/plain": [
              "<IPython.core.display.Markdown object>"
            ],
            "text/markdown": "Let's break down the best conceptual approaches for solving LeetCode 323.\n\n## Conceptual Approaches\n\nThe core idea is to traverse the graph and, while doing so, efficiently count distinct connected components.  Here are the two most effective strategies:\n\n**1. Depth-First Search (DFS)**\n\n   **Steps:**\n\n   1. **Initialization:**\n      - Create an adjacency list `adj_list` to represent the graph.  This data structure efficiently stores which nodes are neighbors of each other.\n      - Initialize a `visited` array (or set) to keep track of visited nodes during traversal. Initially, mark all nodes as not visited.\n      - Set a counter variable `component_count` to 0.\n\n   2. **Iterative DFS:** \n      - Iterate through each node in the graph.\n      - For each node `i`, if it's not visited:\n         - Increment `component_count`.\n         - Perform DFS starting from node `i`:\n            - Mark `i` as visited.\n            - Explore all its unvisited neighbors recursively. Marking them visited as you go. This ensures that you don't count nodes in the same component multiple times.\n\n   3. **Return:** Return `component_count`.\n\n   **Complexity Analysis:**\n\n   - **Time Complexity:**  O(V + E) where V is the number of vertices (nodes) and E is the number of edges.  We visit each node and edge at most once during DFS and adjacency list creation.\n   - **Space Complexity:** O(V + E) \n      - Adjacency list: O(V + E) to store the graph structure.\n      - `visited` array: O(V) to track visited nodes.\n      - Recursion depth (implicit stack):  Can go up to O(V) in the worst case of a linear graph.\n\n**2. Breadth-First Search (BFS)**\n\n   **Steps:**\n\n   -  The steps are very similar to DFS, but instead of using recursion, we employ a queue to process nodes level by level:\n\n   1. **Initialization:** Same as DFS (adjacency list, `visited`, `component_count`).\n\n   2. **Iterative BFS:**\n      - Iterate through each node.\n      - For each unvisited node `i`:\n         - Increment `component_count`.\n         - Initialize a queue and add `i` to it.\n         - While the queue is not empty:\n            - Dequeue a node.\n            - Mark it as visited.\n            - Enqueue all its unvisited neighbors.\n\n   3. **Return:** Return `component_count`.\n\n   **Complexity Analysis:**\n\n   -  **Time Complexity:** O(V + E) - Same rationale as DFS.\n   -  **Space Complexity:** O(V + E) \n      - Adjacency list: O(V + E).\n      - `visited` array: O(V).\n      - Queue: Can store up to O(V) nodes in the worst case of a very \"wide\" graph.\n\n## Choosing Between DFS and BFS\n\n- Both DFS and BFS are equally suitable for solving this problem and have the same time and space complexity in the context of connected components. \n- DFS might be slightly more intuitive to implement recursively for exploring connected structures, but the choice often comes down to personal preference. \n"
          },
          "metadata": {}
        }
      ],
      "source": [
        "solution_prompt = f'''\n",
        "Now I want to begin developing a solution to {lc_problem}.\n",
        "As a helpful coding assistant, explain the best conceptual approaches\n",
        "to solving this problem. Include an analysis of complexity and runtime for\n",
        "each approach. Do not provide code yet, only the conceptual steps and evaluation.\n",
        "'''\n",
        "\n",
        "solution_response = chat.send_message(solution_prompt)\n",
        "print_md(solution_response.text)\n"
      ]
    },
    {
      "cell_type": "markdown",
      "source": [
        "### DFS Approach\n",
        "Of the two approaches provided, we will explore DFS because it is often used for identifying connected components in a graph."
      ],
      "metadata": {
        "id": "_BbHc1cHlFTQ"
      }
    },
    {
      "cell_type": "code",
      "execution_count": 19,
      "metadata": {
        "colab": {
          "base_uri": "https://localhost:8080/",
          "height": 982
        },
        "id": "DFUaUsCJqw_D",
        "outputId": "4d0de714-20f9-460f-ffe1-08f41f95fced"
      },
      "outputs": [
        {
          "output_type": "display_data",
          "data": {
            "text/plain": [
              "<IPython.core.display.Markdown object>"
            ],
            "text/markdown": "Here's a Python implementation of the Depth-First Search (DFS) approach for LeetCode 323, along with a step-by-step explanation:\n\n```python\nclass Solution:\n    def countComponents(self, n: int, edges: List[List[int]]) -> int:\n        # 1. Create Adjacency List\n        adj_list = [[] for _ in range(n)] \n        for a, b in edges:\n            adj_list[a].append(b)\n            adj_list[b].append(a)\n\n        # 2. Initialize Visited Array and Component Count\n        visited = [False] * n\n        component_count = 0\n\n        # 3. DFS Function \n        def dfs(node):\n            visited[node] = True \n            for neighbor in adj_list[node]:\n                if not visited[neighbor]:\n                    dfs(neighbor)\n\n        # 4. Iterate and Perform DFS for each Component\n        for i in range(n):\n            if not visited[i]:\n                component_count += 1\n                dfs(i)\n\n        return component_count \n```\n\n**Explanation:**\n\n1. **Create Adjacency List:**\n   - `adj_list = [[] for _ in range(n)]`: We create an adjacency list `adj_list`, which will be a list of lists. Each index `i` in `adj_list` represents node `i`, and `adj_list[i]` will store a list of nodes directly connected to node `i`.\n   - `for a, b in edges:`: We iterate through the given `edges` list.\n   - `adj_list[a].append(b)` and `adj_list[b].append(a)`: For each edge `[a, b]`, we add `b` to the adjacency list of `a` and vice-versa since the graph is undirected.\n\n2. **Initialize Visited Array and Component Count:**\n   - `visited = [False] * n`: A boolean array `visited` is initialized with `False` for all nodes. This array tracks whether we've visited a node during our DFS traversal.\n   - `component_count = 0`: We initialize a counter to keep track of the number of connected components found.\n\n3. **DFS Function (`dfs(node)`):**\n   - `visited[node] = True`: Mark the current `node` as visited as soon as we start exploring it.\n   - `for neighbor in adj_list[node]:`: Iterate through the neighbors of the current `node` retrieved from the `adj_list`.\n   - `if not visited[neighbor]:`: If a `neighbor` hasn't been visited yet:\n      - `dfs(neighbor)`: Recursively call the `dfs` function on the unvisited `neighbor` to explore its connected component.\n\n4. **Iterate and Perform DFS for Each Component:**\n   - `for i in range(n):`: We loop through each node in the graph.\n   - `if not visited[i]:`: If a node `i` hasn't been visited yet, it means it belongs to a new connected component:\n      - `component_count += 1`: Increment the `component_count`.\n      - `dfs(i)`: Start a DFS traversal from the current node `i` to explore and mark all nodes within its connected component.\n\n5. **Return:** Finally, we return the `component_count`, which now represents the total number of connected components in the graph. \n"
          },
          "metadata": {}
        }
      ],
      "source": [
        "solution_prompt = '''\n",
        "Let's walk through solving this problem by using depth\n",
        "first search. Walk me through the implementation steps using\n",
        "Python. Provide a detailed explanation because I want to make sure I\n",
        "understand the code for each step.Use the variables specified in the\n",
        "Leetcode problem itself starting with \"class Solution:\".\n",
        "'''\n",
        "\n",
        "solution_response = chat.send_message(solution_prompt)\n",
        "print_md(solution_response.text)"
      ]
    },
    {
      "cell_type": "code",
      "execution_count": 28,
      "metadata": {
        "id": "C6n5ZmMkqw_D"
      },
      "outputs": [],
      "source": [
        "# import typing for type hints\n",
        "from typing import List\n",
        "\n",
        "class Solution:\n",
        "    def countComponents(self, n: int, edges: List[List[int]]) -> int:\n",
        "        # 1. Create Adjacency List\n",
        "        adj_list = [[] for _ in range(n)]\n",
        "        for a, b in edges:\n",
        "            adj_list[a].append(b)\n",
        "            adj_list[b].append(a)\n",
        "\n",
        "        # 2. Initialize Visited Array and Component Count\n",
        "        visited = [False] * n\n",
        "        component_count = 0\n",
        "\n",
        "        # 3. DFS Function\n",
        "        def dfs(node):\n",
        "            visited[node] = True\n",
        "            for neighbor in adj_list[node]:\n",
        "                if not visited[neighbor]:\n",
        "                    dfs(neighbor)\n",
        "\n",
        "        # 4. Iterate and Perform DFS for each Component\n",
        "        for i in range(n):\n",
        "            if not visited[i]:\n",
        "                component_count += 1\n",
        "                dfs(i)\n",
        "\n",
        "        return component_count\n"
      ]
    },
    {
      "cell_type": "markdown",
      "metadata": {
        "id": "6y3Lk-DSqw_D"
      },
      "source": [
        "### Test DFS Solution on Sample Data"
      ]
    },
    {
      "cell_type": "code",
      "execution_count": 29,
      "metadata": {
        "colab": {
          "base_uri": "https://localhost:8080/"
        },
        "id": "Vhr3yAOkqw_D",
        "outputId": "581dff21-a2af-4555-9178-7bef586a4088"
      },
      "outputs": [
        {
          "output_type": "stream",
          "name": "stdout",
          "text": [
            "Correct answer: 4\n",
            "Function response: 4\n"
          ]
        }
      ],
      "source": [
        "# instantiate solution\n",
        "sol = Solution()\n",
        "\n",
        "# run function\n",
        "answer = sol.countComponents(n=n, edges=edges)\n",
        "\n",
        "# confirm result\n",
        "print('Correct answer:', solution)\n",
        "print('Function response:', answer)\n",
        "assert solution == answer"
      ]
    },
    {
      "cell_type": "markdown",
      "source": [
        "### Union Find Approach\n",
        "Another popular approach to solving this type of problem is the Union Find algorithm. In short, Union Find is designed for just this type of problem. Because Gemini did not mention it initally, we will prompt it for a description of this approach.\n",
        "\n",
        "NeetCode usese this approach in [a YouTube explanation](https://www.youtube.com/watch?v=8f1XPm4WOUc) of this problem."
      ],
      "metadata": {
        "id": "7IXMdK3JlN5H"
      }
    },
    {
      "cell_type": "code",
      "source": [
        "union_find_conceptual = f'''\n",
        "I have heard another approach to solve {lc_problem}\n",
        "is to use union find. Provide me with a conceptual\n",
        "overview of the union find algorithm and how it\n",
        "applies to this problem.\n",
        "'''\n",
        "\n",
        "union_find_response = chat.send_message(union_find_conceptual)\n",
        "\n",
        "print_md(union_find_response.text)"
      ],
      "metadata": {
        "colab": {
          "base_uri": "https://localhost:8080/",
          "height": 961
        },
        "id": "Yiff4z6elP56",
        "outputId": "5508eb93-9435-4aad-8fba-d12c58654d93"
      },
      "execution_count": 30,
      "outputs": [
        {
          "output_type": "display_data",
          "data": {
            "text/plain": [
              "<IPython.core.display.Markdown object>"
            ],
            "text/markdown": "You're right! Union Find, also known as the Disjoint Set Union (DSU), is another effective way to solve LeetCode 323. \n\n## Union Find Algorithm Overview\n\nAt its core, Union Find is a data structure and algorithm designed to:\n\n1. **Maintain disjoint sets:**  It keeps track of groups of elements that are not connected to each other.\n2. **Efficiently perform two operations:**\n   - **Union:**  Merge two sets together.\n   - **Find:**  Determine which set a particular element belongs to.\n\n**How it works:**\n\n* **Data Representation:** Typically, Union Find uses an array called `parent` (or sometimes `root`) to represent the sets.\n   - Initially, each element `i` is its own parent (`parent[i] = i`), meaning each element is in its own set.\n   - As we perform union operations, the `parent` array is updated to reflect the merging of sets.  \n* **Find Operation:** To find the set of an element `i`, you follow the chain of parents from `i` until you reach a node that is its own parent (a root node). This root node represents the entire set.\n* **Union Operation:** To merge the sets containing elements `a` and `b`, you:\n   - Find the root of `a` (let's call it `root_a`).\n   - Find the root of `b` (let's call it `root_b`).\n   - If `root_a` is not equal to `root_b` (they are in different sets), set the parent of one root to be the other root. This effectively merges the two sets into one.\n\n**Optimizations:**\n\n* **Path Compression (Find Optimization):** During a `find` operation, after finding the root of an element, we update the parent of all elements along the path to point directly to the root. This flattens the tree structure and makes future `find` operations faster.\n* **Union by Rank (Union Optimization):** We maintain a `rank` (or sometimes `size`) array, which keeps track of the approximate height or size of each set. When performing a union, we attach the smaller tree to the root of the larger tree. This helps keep the trees flatter and improves efficiency.\n\n## Union Find for LeetCode 323\n\n**How it Applies:**\n\n1. **Initialization:** \n   - Create a `parent` array of size `n` (number of nodes). Initialize it so each node is its own parent.\n   - Initialize a `count` variable to `n`, representing the initial number of connected components (each node starts as its own component). \n\n2. **Iterate through Edges:**\n   - For each edge `[a, b]` in the `edges` list:\n     - Use the `find` operation to find the root of `a` (`root_a`).\n     - Use the `find` operation to find the root of `b` (`root_b`).\n     - If `root_a` and `root_b` are different, perform a `union` operation to merge their sets. Decrement the `count` variable by 1, as we've merged two components into one.\n\n3. **Return the Count:**\n   - After processing all edges, the `count` variable will hold the number of connected components in the graph.\n\n**Complexity Analysis:**\n\n- **Time Complexity:** With both path compression and union by rank optimizations, the amortized time complexity for both `find` and `union` operations becomes nearly constant, close to O(1). Therefore, processing the edges takes approximately O(E).\n- **Space Complexity:** O(N) for the `parent` array and potentially the `rank` array. \n\nLet me know if you'd like a Python implementation of the Union Find approach for this problem. \n"
          },
          "metadata": {}
        }
      ]
    },
    {
      "cell_type": "code",
      "source": [
        "union_find_code = f'''\n",
        "Now generate the union find solution using Python.\n",
        "Included detailed comments in the code. I want to make sure I\n",
        "understand the code implementation for each step.\n",
        "Use the variables specified in the Leetcode problem itself\n",
        "beginning with \"class Solution:\".\n",
        "'''\n",
        "\n",
        "union_find_code_resp = chat.send_message(union_find_code)\n",
        "\n",
        "print_md(union_find_code_resp.text)"
      ],
      "metadata": {
        "colab": {
          "base_uri": "https://localhost:8080/",
          "height": 1000
        },
        "id": "8eX3FZkLmmz0",
        "outputId": "b0e13fb9-29de-4e21-efc5-3a8d8f077745"
      },
      "execution_count": 32,
      "outputs": [
        {
          "output_type": "display_data",
          "data": {
            "text/plain": [
              "<IPython.core.display.Markdown object>"
            ],
            "text/markdown": "```python\nclass Solution:\n    def countComponents(self, n: int, edges: List[List[int]]) -> int:\n        \"\"\"\n        Counts the number of connected components in an undirected graph using Union Find.\n\n        Args:\n            n: The number of nodes in the graph, labeled from 0 to n - 1.\n            edges: A list of edges, where each edge is a pair [a, b] representing \n                   an undirected edge connecting nodes a and b.\n\n        Returns:\n            The number of connected components in the graph.\n        \"\"\"\n\n        parent = [i for i in range(n)]  # Initialize parent array - each node starts as its own parent\n        count = n  # Initially, the number of components equals the number of nodes\n\n        def find(x: int) -> int:\n            \"\"\"\n            Finds the root (representative) of the set containing node x using path compression.\n\n            Args:\n                x: The node to find the root of.\n\n            Returns:\n                The root node of the set containing x.\n            \"\"\"\n\n            if parent[x] != x:  # If x is not its own parent\n                parent[x] = find(parent[x])  # Recursively find root and compress path by updating parent[x]\n            return parent[x]  # Return the root\n\n        def union(a: int, b: int) -> None:\n            \"\"\"\n            Merges the sets containing nodes a and b if they are not already in the same set.\n\n            Args:\n                a: The first node.\n                b: The second node.\n            \"\"\"\n            nonlocal count  # Allow modification of the 'count' variable outside the function scope\n            root_a = find(a)  # Find root of the set containing a\n            root_b = find(b)  # Find root of the set containing b\n            if root_a != root_b:  # If they are not in the same set\n                parent[root_a] = root_b  # Merge sets by setting the parent of root_a to root_b\n                count -= 1  # Decrement component count since two components have merged\n\n        # Process each edge to merge components if necessary\n        for a, b in edges: \n            union(a, b) \n\n        return count  # Return the final count of connected components\n```\n\n**Key Points:**\n\n- **`parent` Array:** The `parent` array is the core of Union Find. It stores the parent (or representative) of each node in the disjoint set. \n- **Path Compression:** This optimization, implemented in the `find` function, dramatically improves efficiency by flattening the tree structure.\n- **Union by Rank:** While this implementation doesn't explicitly use \"rank,\" the choice of which root to attach to (`parent[root_a] = root_b`) could be further optimized with a rank-based heuristic.\n- **Amortized Complexity:** With path compression, the `find` and `union` operations have nearly constant-time complexity (amortized over a series of operations). This makes Union Find very efficient for problems involving dynamic connectivity, like this one. \n"
          },
          "metadata": {}
        }
      ]
    },
    {
      "cell_type": "code",
      "source": [
        "class Solution:\n",
        "    def countComponents(self, n: int, edges: List[List[int]]) -> int:\n",
        "        \"\"\"\n",
        "        Counts the number of connected components in an undirected graph using Union Find.\n",
        "\n",
        "        Args:\n",
        "            n: The number of nodes in the graph, labeled from 0 to n - 1.\n",
        "            edges: A list of edges, where each edge is a pair [a, b] representing\n",
        "                   an undirected edge connecting nodes a and b.\n",
        "\n",
        "        Returns:\n",
        "            The number of connected components in the graph.\n",
        "        \"\"\"\n",
        "\n",
        "        parent = [i for i in range(n)]  # Initialize parent array - each node starts as its own parent\n",
        "        count = n  # Initially, the number of components equals the number of nodes\n",
        "\n",
        "        def find(x: int) -> int:\n",
        "            \"\"\"\n",
        "            Finds the root (representative) of the set containing node x using path compression.\n",
        "\n",
        "            Args:\n",
        "                x: The node to find the root of.\n",
        "\n",
        "            Returns:\n",
        "                The root node of the set containing x.\n",
        "            \"\"\"\n",
        "\n",
        "            if parent[x] != x:  # If x is not its own parent\n",
        "                parent[x] = find(parent[x])  # Recursively find root and compress path by updating parent[x]\n",
        "            return parent[x]  # Return the root\n",
        "\n",
        "        def union(a: int, b: int) -> None:\n",
        "            \"\"\"\n",
        "            Merges the sets containing nodes a and b if they are not already in the same set.\n",
        "\n",
        "            Args:\n",
        "                a: The first node.\n",
        "                b: The second node.\n",
        "            \"\"\"\n",
        "            nonlocal count  # Allow modification of the 'count' variable outside the function scope\n",
        "            root_a = find(a)  # Find root of the set containing a\n",
        "            root_b = find(b)  # Find root of the set containing b\n",
        "            if root_a != root_b:  # If they are not in the same set\n",
        "                parent[root_a] = root_b  # Merge sets by setting the parent of root_a to root_b\n",
        "                count -= 1  # Decrement component count since two components have merged\n",
        "\n",
        "        # Process each edge to merge components if necessary\n",
        "        for a, b in edges:\n",
        "            union(a, b)\n",
        "\n",
        "        return count  # Return the final count of connected components"
      ],
      "metadata": {
        "id": "5s54wTxtlfRO"
      },
      "execution_count": 33,
      "outputs": []
    },
    {
      "cell_type": "markdown",
      "source": [
        "### Test Union Find Solution on Sample Data"
      ],
      "metadata": {
        "id": "gxOWfXGImGCn"
      }
    },
    {
      "cell_type": "code",
      "source": [
        "# instantiate solution\n",
        "sol = Solution()\n",
        "\n",
        "# run function\n",
        "answer = sol.countComponents(n=n, edges=edges)\n",
        "\n",
        "# confirm result\n",
        "print('Correct answer:', solution)\n",
        "print('Function response:', answer)\n",
        "assert solution == answer"
      ],
      "metadata": {
        "colab": {
          "base_uri": "https://localhost:8080/"
        },
        "id": "yf9e0z9Al3OZ",
        "outputId": "3ac127b6-f98a-456b-93bf-ff470d1b7040"
      },
      "execution_count": 35,
      "outputs": [
        {
          "output_type": "stream",
          "name": "stdout",
          "text": [
            "Correct answer: 4\n",
            "Function response: 4\n"
          ]
        }
      ]
    },
    {
      "cell_type": "markdown",
      "source": [
        "## Compare Solutions"
      ],
      "metadata": {
        "id": "nwIdtMBAmMvq"
      }
    },
    {
      "cell_type": "code",
      "source": [
        "compare_solutions = f'''\n",
        "I want you to compare the DFS and Union Find\n",
        "approaches to solveing {lc_problem}. Compare\n",
        "them from a conceptual perspective as well as\n",
        "runtime and complexity. Be thorough in your\n",
        "analysis.\n",
        "'''\n",
        "\n",
        "compare_response = chat.send_message(compare_solutions)\n",
        "\n",
        "print_md(compare_response.text)"
      ],
      "metadata": {
        "colab": {
          "base_uri": "https://localhost:8080/",
          "height": 990
        },
        "id": "xdqmG08smOmR",
        "outputId": "f17c8475-f236-49ce-cef3-f48a44f4d379"
      },
      "execution_count": 36,
      "outputs": [
        {
          "output_type": "display_data",
          "data": {
            "text/plain": [
              "<IPython.core.display.Markdown object>"
            ],
            "text/markdown": "Let's compare Depth-First Search (DFS) and Union Find for finding the number of connected components in an undirected graph:\n\n## Conceptual Comparison\n\n| Feature        | DFS                                                                      | Union Find                                                                               |\n|----------------|--------------------------------------------------------------------------|-----------------------------------------------------------------------------------------|\n| Core Idea      | Traverse the graph, visiting each node and its reachable neighbors to mark components.  | Represent components as disjoint sets and merge them as edges connect previously separate sets. |\n| Data Structures| Adjacency list (to represent the graph), visited array (to track visited nodes). | Parent array (to represent disjoint sets), often with a rank/size array for optimization.     |\n| Traversal     | Explicit traversal of the graph, either recursively or iteratively.       | No explicit traversal; edges guide set merging.                                             |\n\n## Runtime and Complexity Analysis\n\n| Aspect         | DFS                | Union Find (with path compression and union by rank) |\n|----------------|---------------------|---------------------------------------------------------|\n| Time Complexity | O(V + E)           | Nearly O(E) (amortized), often considered O(α(N) * E) where α(N) is the inverse Ackermann function (very slowly growing) |\n| Space Complexity| O(V + E)           | O(V)                                                    |\n\n**Detailed Breakdown:**\n\n**Time Complexity:**\n\n- **DFS:** O(V + E) because:\n    - We visit each node at most once (O(V)).\n    - We explore each edge at most twice (once from each direction, O(E)).\n- **Union Find:** With path compression and union by rank optimizations:\n    - The `find` and `union` operations have nearly constant amortized time complexity, close to O(1).\n    - We perform `find` twice and potentially `union` once per edge, giving us close to O(E) overall.\n    -  More rigorously, the time complexity is often expressed as O(α(N) * E), where α(N) is the inverse Ackermann function, which grows incredibly slowly and is effectively constant for practical graph sizes.\n\n**Space Complexity:**\n\n- **DFS:** O(V + E) due to:\n    - Adjacency list: O(V + E) to store the graph structure.\n    - `visited` array: O(V).\n    - Recursion stack: Can reach a depth of O(V) in the worst-case (linear graph).\n- **Union Find:** O(V) because:\n    - `parent` array: O(V).\n    - `rank` array (if used): O(V).\n\n## Which One to Choose?\n\n- **Performance:**  Union Find, with its near-constant-time operations, often outperforms DFS, especially for graphs with many edges (dense graphs) or for problems involving many connectivity queries.\n- **Ease of Implementation:** DFS is often considered more intuitive to implement for basic graph traversal problems like this one. Union Find can be slightly trickier to grasp initially.\n- **Problem Specifics:** If your problem involves frequent checks for connectivity between nodes or requires you to perform many union/merge operations, Union Find is a more natural and efficient choice. If you need to process the graph structure as you traverse it (e.g., finding paths, distances), DFS is generally preferred. \n\n**For LeetCode 323:** \nWhile both approaches can solve the problem, Union Find provides a slightly more efficient solution. However, if you're more comfortable with DFS, it's still a perfectly acceptable solution, and the difference in performance might not be noticeable for smaller graphs. \n"
          },
          "metadata": {}
        }
      ]
    },
    {
      "cell_type": "markdown",
      "source": [
        "## Conclusion\n",
        "In this notebook we dug into Leetcode 323 and learned about the core concepts involved:\n",
        "* Connected Components\n",
        "* Depth-First Search\n",
        "* Union Find\n",
        "\n",
        "We also generated Python code to identify the connected components using both common approaches. We also saw how LLMs like Google Gemini can be powerful tools for learning concepts at the core of common LeetCode problems.\n",
        "\n",
        "\n",
        "**[Follow me on LinkedIn](https://www.linkedin.com/in/danieljbukowski/) for daily content about graphs, data science, and GenAI**"
      ],
      "metadata": {
        "id": "Efsn5DcWXyXJ"
      }
    }
  ],
  "metadata": {
    "kernelspec": {
      "display_name": "torch",
      "language": "python",
      "name": "python3"
    },
    "language_info": {
      "codemirror_mode": {
        "name": "ipython",
        "version": 3
      },
      "file_extension": ".py",
      "mimetype": "text/x-python",
      "name": "python",
      "nbconvert_exporter": "python",
      "pygments_lexer": "ipython3",
      "version": "3.11.8"
    },
    "colab": {
      "provenance": [],
      "toc_visible": true,
      "include_colab_link": true
    }
  },
  "nbformat": 4,
  "nbformat_minor": 0
}